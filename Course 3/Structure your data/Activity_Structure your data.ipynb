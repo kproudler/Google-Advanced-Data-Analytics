{
 "cells": [
  {
   "cell_type": "markdown",
   "metadata": {
    "id": "1WD1hC5MTRMS"
   },
   "source": [
    "# Activity: Structure your data "
   ]
  },
  {
   "cell_type": "markdown",
   "metadata": {
    "id": "ee31943b-274e-4c28-bce6-155cb6f4c334"
   },
   "source": [
    "## Introduction\n",
    "\n",
    "In this activity, you will practice structuring, an **exploratory data analysis (EDA)** step that helps data science projects move forward. During EDA, when working with data that contains aspects of date and time, \"datetime\" transformations are integral to better understanding the data. As a data professional, you will encounter datetime transformations quite often as you determine how to format your data to suit the problems you want to solve or the questions you want to answer. This activity gives you an opportunity to apply these skills and prepare you for future EDA, where you will need to determine how best to structure your data.\n",
    "\n",
    "In this activity, you are a member of an analytics team that provides insights to an investing firm. To help them decide which companies to invest in next, the firm wants insights into **unicorn companies**–companies that are valued at over one billion dollars.  \n",
    "\n",
    "You will work with a dataset about unicorn companies, discovering characteristics of the data, structuring the data in ways that will help you draw meaningful insights, and using visualizations to analyze the data. Ultimately, you will draw conclusions about what significant trends or patterns you find in the dataset. This will develop your skills in EDA and your knowledge of functions that allow you to structure data.\n",
    "\n",
    "\n",
    "\n"
   ]
  },
  {
   "cell_type": "markdown",
   "metadata": {
    "id": "4bb9630e-b940-4835-a389-d39def1fa848"
   },
   "source": [
    "## Step 1: Imports "
   ]
  },
  {
   "cell_type": "markdown",
   "metadata": {
    "id": "bc180686-4ae2-47ea-a292-3588ac60a820"
   },
   "source": [
    "### Import relevant libraries and modules\n",
    "\n",
    "Import the relevant Python libraries and modules that you will need to use. In this activity, you will use `pandas`, `numpy`, `seaborn`, and `matplotlib.pyplot`."
   ]
  },
  {
   "cell_type": "code",
   "execution_count": 1,
   "metadata": {
    "id": "8e7f1f2c-bbcc-4f3c-b927-b090ee8334c4"
   },
   "outputs": [],
   "source": [
    "# Import the relevant Python libraries and modules needed in this lab.\n",
    "\n",
    "### YOUR CODE HERE ###\n",
    "import pandas as pd\n",
    "import numpy as np\n",
    "import seaborn as sns\n",
    "import matplotlib.pyplot as plt\n",
    "import datetime as dt"
   ]
  },
  {
   "cell_type": "markdown",
   "metadata": {
    "id": "7d29c6bd-f194-46bb-b794-56dc20130473"
   },
   "source": [
    "### Load the dataset into a DataFrame\n",
    "\n",
    "The dataset provided is in the form of a csv file named `Unicorn_Companies.csv` and contains a subset of data on unicorn companies. As shown in this cell, the dataset has been automatically loaded in for you. You do not need to download the .csv file, or provide more code, in order to access the dataset and proceed with this lab. Please continue with this activity by completing the following instructions."
   ]
  },
  {
   "cell_type": "code",
   "execution_count": 2,
   "metadata": {
    "id": "3bd40d44-080f-4e49-b0c2-160dedc3c4df"
   },
   "outputs": [],
   "source": [
    "# RUN THIS CELL TO IMPORT YOUR DATA.\n",
    "\n",
    "### YOUR CODE HERE ###\n",
    "companies = pd.read_csv(\"Unicorn_Companies.csv\")\n"
   ]
  },
  {
   "cell_type": "markdown",
   "metadata": {
    "id": "95bf39c9-d05c-4324-a40b-bc692607b61b"
   },
   "source": [
    "## Step 2: Data exploration\n"
   ]
  },
  {
   "cell_type": "markdown",
   "metadata": {
    "id": "pEeiG2M76OLH"
   },
   "source": [
    "### Display the first 10 rows of the data\n",
    "\n",
    "In this section, you will discover what the dataset entails and answer questions to guide your exploration and analysis of the data. This is an important step in EDA. \n",
    "\n",
    "To begin, display the first 10 rows of the data to get an understanding of how the dataset is structured. "
   ]
  },
  {
   "cell_type": "code",
   "execution_count": 3,
   "metadata": {
    "id": "ad5210a5-7a64-4991-b004-de818cfaf506"
   },
   "outputs": [
    {
     "data": {
      "text/html": [
       "<div>\n",
       "<style scoped>\n",
       "    .dataframe tbody tr th:only-of-type {\n",
       "        vertical-align: middle;\n",
       "    }\n",
       "\n",
       "    .dataframe tbody tr th {\n",
       "        vertical-align: top;\n",
       "    }\n",
       "\n",
       "    .dataframe thead th {\n",
       "        text-align: right;\n",
       "    }\n",
       "</style>\n",
       "<table border=\"1\" class=\"dataframe\">\n",
       "  <thead>\n",
       "    <tr style=\"text-align: right;\">\n",
       "      <th></th>\n",
       "      <th>Company</th>\n",
       "      <th>Valuation</th>\n",
       "      <th>Date Joined</th>\n",
       "      <th>Industry</th>\n",
       "      <th>City</th>\n",
       "      <th>Country/Region</th>\n",
       "      <th>Continent</th>\n",
       "      <th>Year Founded</th>\n",
       "      <th>Funding</th>\n",
       "      <th>Select Investors</th>\n",
       "    </tr>\n",
       "  </thead>\n",
       "  <tbody>\n",
       "    <tr>\n",
       "      <th>0</th>\n",
       "      <td>Bytedance</td>\n",
       "      <td>$180B</td>\n",
       "      <td>4/7/17</td>\n",
       "      <td>Artificial intelligence</td>\n",
       "      <td>Beijing</td>\n",
       "      <td>China</td>\n",
       "      <td>Asia</td>\n",
       "      <td>2012</td>\n",
       "      <td>$8B</td>\n",
       "      <td>Sequoia Capital China, SIG Asia Investments, S...</td>\n",
       "    </tr>\n",
       "    <tr>\n",
       "      <th>1</th>\n",
       "      <td>SpaceX</td>\n",
       "      <td>$100B</td>\n",
       "      <td>12/1/12</td>\n",
       "      <td>Other</td>\n",
       "      <td>Hawthorne</td>\n",
       "      <td>United States</td>\n",
       "      <td>North America</td>\n",
       "      <td>2002</td>\n",
       "      <td>$7B</td>\n",
       "      <td>Founders Fund, Draper Fisher Jurvetson, Rothen...</td>\n",
       "    </tr>\n",
       "    <tr>\n",
       "      <th>2</th>\n",
       "      <td>SHEIN</td>\n",
       "      <td>$100B</td>\n",
       "      <td>7/3/18</td>\n",
       "      <td>E-commerce &amp; direct-to-consumer</td>\n",
       "      <td>Shenzhen</td>\n",
       "      <td>China</td>\n",
       "      <td>Asia</td>\n",
       "      <td>2008</td>\n",
       "      <td>$2B</td>\n",
       "      <td>Tiger Global Management, Sequoia Capital China...</td>\n",
       "    </tr>\n",
       "    <tr>\n",
       "      <th>3</th>\n",
       "      <td>Stripe</td>\n",
       "      <td>$95B</td>\n",
       "      <td>1/23/14</td>\n",
       "      <td>Fintech</td>\n",
       "      <td>San Francisco</td>\n",
       "      <td>United States</td>\n",
       "      <td>North America</td>\n",
       "      <td>2010</td>\n",
       "      <td>$2B</td>\n",
       "      <td>Khosla Ventures, LowercaseCapital, capitalG</td>\n",
       "    </tr>\n",
       "    <tr>\n",
       "      <th>4</th>\n",
       "      <td>Klarna</td>\n",
       "      <td>$46B</td>\n",
       "      <td>12/12/11</td>\n",
       "      <td>Fintech</td>\n",
       "      <td>Stockholm</td>\n",
       "      <td>Sweden</td>\n",
       "      <td>Europe</td>\n",
       "      <td>2005</td>\n",
       "      <td>$4B</td>\n",
       "      <td>Institutional Venture Partners, Sequoia Capita...</td>\n",
       "    </tr>\n",
       "    <tr>\n",
       "      <th>5</th>\n",
       "      <td>Canva</td>\n",
       "      <td>$40B</td>\n",
       "      <td>1/8/18</td>\n",
       "      <td>Internet software &amp; services</td>\n",
       "      <td>Surry Hills</td>\n",
       "      <td>Australia</td>\n",
       "      <td>Oceania</td>\n",
       "      <td>2012</td>\n",
       "      <td>$572M</td>\n",
       "      <td>Sequoia Capital China, Blackbird Ventures, Mat...</td>\n",
       "    </tr>\n",
       "    <tr>\n",
       "      <th>6</th>\n",
       "      <td>Checkout.com</td>\n",
       "      <td>$40B</td>\n",
       "      <td>5/2/19</td>\n",
       "      <td>Fintech</td>\n",
       "      <td>London</td>\n",
       "      <td>United Kingdom</td>\n",
       "      <td>Europe</td>\n",
       "      <td>2012</td>\n",
       "      <td>$2B</td>\n",
       "      <td>Tiger Global Management, Insight Partners, DST...</td>\n",
       "    </tr>\n",
       "    <tr>\n",
       "      <th>7</th>\n",
       "      <td>Instacart</td>\n",
       "      <td>$39B</td>\n",
       "      <td>12/30/14</td>\n",
       "      <td>Supply chain, logistics, &amp; delivery</td>\n",
       "      <td>San Francisco</td>\n",
       "      <td>United States</td>\n",
       "      <td>North America</td>\n",
       "      <td>2012</td>\n",
       "      <td>$3B</td>\n",
       "      <td>Khosla Ventures, Kleiner Perkins Caufield &amp; By...</td>\n",
       "    </tr>\n",
       "    <tr>\n",
       "      <th>8</th>\n",
       "      <td>JUUL Labs</td>\n",
       "      <td>$38B</td>\n",
       "      <td>12/20/17</td>\n",
       "      <td>Consumer &amp; retail</td>\n",
       "      <td>San Francisco</td>\n",
       "      <td>United States</td>\n",
       "      <td>North America</td>\n",
       "      <td>2015</td>\n",
       "      <td>$14B</td>\n",
       "      <td>Tiger Global Management</td>\n",
       "    </tr>\n",
       "    <tr>\n",
       "      <th>9</th>\n",
       "      <td>Databricks</td>\n",
       "      <td>$38B</td>\n",
       "      <td>2/5/19</td>\n",
       "      <td>Data management &amp; analytics</td>\n",
       "      <td>San Francisco</td>\n",
       "      <td>United States</td>\n",
       "      <td>North America</td>\n",
       "      <td>2013</td>\n",
       "      <td>$3B</td>\n",
       "      <td>Andreessen Horowitz, New Enterprise Associates...</td>\n",
       "    </tr>\n",
       "  </tbody>\n",
       "</table>\n",
       "</div>"
      ],
      "text/plain": [
       "        Company Valuation Date Joined                             Industry  \\\n",
       "0     Bytedance     $180B      4/7/17              Artificial intelligence   \n",
       "1        SpaceX     $100B     12/1/12                                Other   \n",
       "2         SHEIN     $100B      7/3/18      E-commerce & direct-to-consumer   \n",
       "3        Stripe      $95B     1/23/14                              Fintech   \n",
       "4        Klarna      $46B    12/12/11                              Fintech   \n",
       "5         Canva      $40B      1/8/18         Internet software & services   \n",
       "6  Checkout.com      $40B      5/2/19                              Fintech   \n",
       "7     Instacart      $39B    12/30/14  Supply chain, logistics, & delivery   \n",
       "8     JUUL Labs      $38B    12/20/17                    Consumer & retail   \n",
       "9    Databricks      $38B      2/5/19          Data management & analytics   \n",
       "\n",
       "            City  Country/Region      Continent  Year Founded Funding  \\\n",
       "0        Beijing           China           Asia          2012     $8B   \n",
       "1      Hawthorne   United States  North America          2002     $7B   \n",
       "2       Shenzhen           China           Asia          2008     $2B   \n",
       "3  San Francisco   United States  North America          2010     $2B   \n",
       "4      Stockholm          Sweden         Europe          2005     $4B   \n",
       "5    Surry Hills       Australia        Oceania          2012   $572M   \n",
       "6         London  United Kingdom         Europe          2012     $2B   \n",
       "7  San Francisco   United States  North America          2012     $3B   \n",
       "8  San Francisco   United States  North America          2015    $14B   \n",
       "9  San Francisco   United States  North America          2013     $3B   \n",
       "\n",
       "                                    Select Investors  \n",
       "0  Sequoia Capital China, SIG Asia Investments, S...  \n",
       "1  Founders Fund, Draper Fisher Jurvetson, Rothen...  \n",
       "2  Tiger Global Management, Sequoia Capital China...  \n",
       "3        Khosla Ventures, LowercaseCapital, capitalG  \n",
       "4  Institutional Venture Partners, Sequoia Capita...  \n",
       "5  Sequoia Capital China, Blackbird Ventures, Mat...  \n",
       "6  Tiger Global Management, Insight Partners, DST...  \n",
       "7  Khosla Ventures, Kleiner Perkins Caufield & By...  \n",
       "8                            Tiger Global Management  \n",
       "9  Andreessen Horowitz, New Enterprise Associates...  "
      ]
     },
     "execution_count": 3,
     "metadata": {},
     "output_type": "execute_result"
    }
   ],
   "source": [
    "# Display the first 10 rows of the data.\n",
    "\n",
    "### YOUR CODE HERE ###\n",
    "companies.head(10)\n"
   ]
  },
  {
   "cell_type": "markdown",
   "metadata": {
    "id": "49881dfd-4532-424f-9729-f5378d984df0",
    "jp-MarkdownHeadingCollapsed": true,
    "tags": []
   },
   "source": [
    "<details>\n",
    "  <summary><h4><strong>Hint 1</strong></h4></summary>\n",
    "\n",
    "Refer to [the content about exploratory data analysis in Python](https://www.coursera.org/learn/go-beyond-the-numbers-translate-data-into-insight/lecture/kfl9b/find-stories-using-the-six-exploratory-data-analysis-practices).\n",
    "\n",
    "</details>"
   ]
  },
  {
   "cell_type": "markdown",
   "metadata": {
    "id": "k2QxFOi9HW1Q",
    "jp-MarkdownHeadingCollapsed": true,
    "tags": []
   },
   "source": [
    "<details>\n",
    "  <summary><h4><strong>Hint 2</strong></h4></summary>\n",
    "\n",
    "Use the function in the `pandas` library that allows you to get a specific number of rows from the top of a DataFrame.\n",
    " \n",
    "\n",
    "</details>"
   ]
  },
  {
   "cell_type": "markdown",
   "metadata": {
    "id": "ptkclWFzHjHv",
    "jp-MarkdownHeadingCollapsed": true,
    "tags": []
   },
   "source": [
    "<details>\n",
    "  <summary><h4><strong>Hint 3</strong></h4></summary>\n",
    "\n",
    "  Call the `head()` function from the `pandas` library and pass in the number of rows you want from the top of the DataFrame.\n",
    "\n",
    "</details>"
   ]
  },
  {
   "cell_type": "markdown",
   "metadata": {
    "id": "e31095a6-5526-42d3-b1c0-b77c1f8b3852"
   },
   "source": [
    "### Identify the number of rows and columns\n",
    "\n",
    "Identify the number of rows and columns in the dataset. This will help you get a sense of how much data you are working with."
   ]
  },
  {
   "cell_type": "code",
   "execution_count": 4,
   "metadata": {
    "id": "df3c71a1-2519-4c50-86c2-63902a534d27"
   },
   "outputs": [
    {
     "data": {
      "text/plain": [
       "(1074, 10)"
      ]
     },
     "execution_count": 4,
     "metadata": {},
     "output_type": "execute_result"
    }
   ],
   "source": [
    "# Identify the number of rows and columns in the dataset.\n",
    "\n",
    "### YOUR CODE HERE ###\n",
    "companies.shape\n"
   ]
  },
  {
   "cell_type": "markdown",
   "metadata": {
    "id": "-BS8MzFiu2hD",
    "jp-MarkdownHeadingCollapsed": true,
    "tags": []
   },
   "source": [
    "<details>\n",
    "  <summary><h4><strong>Hint 1</strong></h4></summary>\n",
    "\n",
    "Refer to [the content about exploratory data analysis in Python](https://www.coursera.org/learn/go-beyond-the-numbers-translate-data-into-insight/lecture/kfl9b/find-stories-using-the-six-exploratory-data-analysis-practices).\n",
    "\n",
    "</details>"
   ]
  },
  {
   "cell_type": "markdown",
   "metadata": {
    "id": "WtQIWoeMu2hE",
    "jp-MarkdownHeadingCollapsed": true,
    "tags": []
   },
   "source": [
    "<details>\n",
    "  <summary><h4><strong>Hint 2</strong></h4></summary>\n",
    "\n",
    "Use the property that DataFrames in `pandas` have to display the number of rows and the number of columns as a tuple.\n",
    " \n",
    "\n",
    "</details>"
   ]
  },
  {
   "cell_type": "markdown",
   "metadata": {
    "id": "f0cMU_Mqu2hF",
    "jp-MarkdownHeadingCollapsed": true,
    "tags": []
   },
   "source": [
    "<details>\n",
    "  <summary><h4><strong>Hint 3</strong></h4></summary>\n",
    "\n",
    "The `shape` property that DataFrames have can help.\n",
    "\n",
    "</details>"
   ]
  },
  {
   "cell_type": "markdown",
   "metadata": {
    "id": "4c2998a8-f864-43eb-a2d5-64845ebc805c"
   },
   "source": [
    "**Question:** How many rows and columns are in the dataset? How many unicorn companies are there? How many aspects are shown for each company?\n"
   ]
  },
  {
   "cell_type": "markdown",
   "metadata": {
    "id": "I814R8oVz0f8"
   },
   "source": [
    "[Write your response here. Double-click (or enter) to edit.]"
   ]
  },
  {
   "cell_type": "markdown",
   "metadata": {
    "id": "H_ot-KEQ_YAH"
   },
   "source": [
    "### Check for duplicates in the data"
   ]
  },
  {
   "cell_type": "code",
   "execution_count": 5,
   "metadata": {
    "id": "3eT0fgc__MY9"
   },
   "outputs": [
    {
     "data": {
      "text/plain": [
       "(1074, 10)"
      ]
     },
     "execution_count": 5,
     "metadata": {},
     "output_type": "execute_result"
    }
   ],
   "source": [
    "# Check for duplicates.\n",
    "\n",
    "### YOUR CODE HERE ###\n",
    "companies.drop_duplicates().shape"
   ]
  },
  {
   "cell_type": "markdown",
   "metadata": {
    "id": "5XLziTHPAZkn",
    "jp-MarkdownHeadingCollapsed": true,
    "tags": []
   },
   "source": [
    "<details>\n",
    "  <summary><h4><strong>Hint 1</strong></h4></summary>\n",
    "\n",
    "Refer to [the content about exploratory data analysis in Python](https://www.coursera.org/learn/go-beyond-the-numbers-translate-data-into-insight/lecture/kfl9b/find-stories-using-the-six-exploratory-data-analysis-practices).\n",
    "\n",
    "</details>"
   ]
  },
  {
   "cell_type": "markdown",
   "metadata": {
    "id": "zYuUTbHgAZkp",
    "jp-MarkdownHeadingCollapsed": true,
    "tags": []
   },
   "source": [
    "<details>\n",
    "  <summary><h4><strong>Hint 2</strong></h4></summary>\n",
    "\n",
    "Use the function in `pandas` that can be called on a DataFrame to return the same DataFrame but with duplicates removed.\n",
    "\n",
    "Use property that DataFrames in `pandas` have that to display the number of rows and columns as a tuple.\n",
    " \n",
    "</details>"
   ]
  },
  {
   "cell_type": "markdown",
   "metadata": {
    "id": "oi-zzNBGAZkp",
    "jp-MarkdownHeadingCollapsed": true,
    "tags": []
   },
   "source": [
    "<details>\n",
    "  <summary><h4><strong>Hint 3</strong></h4></summary>\n",
    "\n",
    "Call the `drop_duplicates()` function on `companies`, followed by calling the `shape` property. \n",
    "\n",
    "Compare the shape that is returned from this to the original shape of `companies`, which you identified previously. \n",
    "\n",
    "</details>"
   ]
  },
  {
   "cell_type": "markdown",
   "metadata": {
    "id": "-6S3zT-l_ydL"
   },
   "source": [
    "**Question:** Based on the preceding output, are there any duplicates in the dataset?\n"
   ]
  },
  {
   "cell_type": "markdown",
   "metadata": {
    "id": "QqXNXWRQz1mh"
   },
   "source": [
    "[Write your response here. Double-click (or enter) to edit.]"
   ]
  },
  {
   "cell_type": "markdown",
   "metadata": {
    "id": "fgD6IfeBsNW8"
   },
   "source": [
    "### Display the data types of the columns \n",
    "\n",
    "Knowing the data types of the columns is helpful because it indicates what types of analysis and aggregation can be done, how a column can be transformed to suit specific tasks, and so on. Display the data types of the columns. "
   ]
  },
  {
   "cell_type": "code",
   "execution_count": 6,
   "metadata": {
    "id": "PjO2hGK2r8vN"
   },
   "outputs": [
    {
     "data": {
      "text/plain": [
       "Company             object\n",
       "Valuation           object\n",
       "Date Joined         object\n",
       "Industry            object\n",
       "City                object\n",
       "Country/Region      object\n",
       "Continent           object\n",
       "Year Founded         int64\n",
       "Funding             object\n",
       "Select Investors    object\n",
       "dtype: object"
      ]
     },
     "execution_count": 6,
     "metadata": {},
     "output_type": "execute_result"
    }
   ],
   "source": [
    "# Display the data types of the columns.\n",
    "\n",
    "### YOUR CODE HERE ###\n",
    "companies.dtypes\n"
   ]
  },
  {
   "cell_type": "markdown",
   "metadata": {
    "id": "rDrbzQlhkB5F",
    "jp-MarkdownHeadingCollapsed": true,
    "tags": []
   },
   "source": [
    "<details>\n",
    "  <summary><h4><strong>Hint 1</strong></h4></summary>\n",
    "\n",
    "Refer to [the content about exploratory data analysis in Python](https://www.coursera.org/learn/go-beyond-the-numbers-translate-data-into-insight/lecture/kfl9b/find-stories-using-the-six-exploratory-data-analysis-practices).\n",
    "\n",
    "</details>"
   ]
  },
  {
   "cell_type": "markdown",
   "metadata": {
    "id": "iBciSHO2kB5H",
    "jp-MarkdownHeadingCollapsed": true,
    "tags": []
   },
   "source": [
    "<details>\n",
    "  <summary><h4><strong>Hint 2</strong></h4></summary>\n",
    "\n",
    "Use the property that DataFrames in `pandas` have to display the data types of the columns in the specified DataFrame.\n",
    " \n",
    "\n",
    "</details>"
   ]
  },
  {
   "cell_type": "markdown",
   "metadata": {
    "id": "kyq_H95zkB5I",
    "jp-MarkdownHeadingCollapsed": true,
    "tags": []
   },
   "source": [
    "<details>\n",
    "  <summary><h4><strong>Hint 3</strong></h4></summary>\n",
    "\n",
    "The `dtypes` property that DataFrames have can help.\n",
    "\n",
    "</details>"
   ]
  },
  {
   "cell_type": "markdown",
   "metadata": {
    "id": "bd6573bc-2adb-410e-a85c-d6d5886d51bf"
   },
   "source": [
    "**Question:** What do you notice about the data types of the columns in the dataset?\n"
   ]
  },
  {
   "cell_type": "markdown",
   "metadata": {
    "id": "NmHY4cWIz2n5"
   },
   "source": [
    "[Write your response here. Double-click (or enter) to edit.]"
   ]
  },
  {
   "cell_type": "markdown",
   "metadata": {
    "id": "cAfmH6tjHYiq"
   },
   "source": [
    "**Question:** How would you sort this dataset in order to get insights about when the companies were founded? Then, how would you arrange the data from companies that were founded the earliest to companies that were founded the latest?\n"
   ]
  },
  {
   "cell_type": "markdown",
   "metadata": {
    "id": "8DtM8u4Iz3TA"
   },
   "source": [
    "[Write your response here. Double-click (or enter) to edit.]"
   ]
  },
  {
   "cell_type": "markdown",
   "metadata": {
    "id": "1ZqTQXEN9WbW"
   },
   "source": [
    "### Sort the data\n",
    "\n",
    "In this section, you will continue your exploratory data analysis by structuring the data. This is an important step in EDA, as it allows you to glean valuable and interesting insights about the data afterwards.\n",
    "\n",
    "To begin, sort the data so that you can get insights about when the companies were founded. Consider whether it would make sense to sort in ascending or descending order based on what you would like to find."
   ]
  },
  {
   "cell_type": "code",
   "execution_count": 7,
   "metadata": {
    "id": "sjWPuI-xKDat"
   },
   "outputs": [
    {
     "data": {
      "text/html": [
       "<div>\n",
       "<style scoped>\n",
       "    .dataframe tbody tr th:only-of-type {\n",
       "        vertical-align: middle;\n",
       "    }\n",
       "\n",
       "    .dataframe tbody tr th {\n",
       "        vertical-align: top;\n",
       "    }\n",
       "\n",
       "    .dataframe thead th {\n",
       "        text-align: right;\n",
       "    }\n",
       "</style>\n",
       "<table border=\"1\" class=\"dataframe\">\n",
       "  <thead>\n",
       "    <tr style=\"text-align: right;\">\n",
       "      <th></th>\n",
       "      <th>Company</th>\n",
       "      <th>Valuation</th>\n",
       "      <th>Date Joined</th>\n",
       "      <th>Industry</th>\n",
       "      <th>City</th>\n",
       "      <th>Country/Region</th>\n",
       "      <th>Continent</th>\n",
       "      <th>Year Founded</th>\n",
       "      <th>Funding</th>\n",
       "      <th>Select Investors</th>\n",
       "    </tr>\n",
       "  </thead>\n",
       "  <tbody>\n",
       "    <tr>\n",
       "      <th>962</th>\n",
       "      <td>Mammoth Biosciences</td>\n",
       "      <td>$1B</td>\n",
       "      <td>9/9/21</td>\n",
       "      <td>Health</td>\n",
       "      <td>Brisbane</td>\n",
       "      <td>United States</td>\n",
       "      <td>North America</td>\n",
       "      <td>2017</td>\n",
       "      <td>$265M</td>\n",
       "      <td>NFX, Plum Alley, Mayfield</td>\n",
       "    </tr>\n",
       "    <tr>\n",
       "      <th>855</th>\n",
       "      <td>Agile Robots</td>\n",
       "      <td>$1B</td>\n",
       "      <td>9/9/21</td>\n",
       "      <td>Hardware</td>\n",
       "      <td>Munich</td>\n",
       "      <td>Germany</td>\n",
       "      <td>Europe</td>\n",
       "      <td>2018</td>\n",
       "      <td>$240M</td>\n",
       "      <td>Hillhouse Capital Management, Sequoia Capital ...</td>\n",
       "    </tr>\n",
       "    <tr>\n",
       "      <th>990</th>\n",
       "      <td>Orchard</td>\n",
       "      <td>$1B</td>\n",
       "      <td>9/9/21</td>\n",
       "      <td>Fintech</td>\n",
       "      <td>New York</td>\n",
       "      <td>United States</td>\n",
       "      <td>North America</td>\n",
       "      <td>2017</td>\n",
       "      <td>$252M</td>\n",
       "      <td>Accomplice, Juxtapose, FirstMark Capital</td>\n",
       "    </tr>\n",
       "    <tr>\n",
       "      <th>271</th>\n",
       "      <td>Varo Bank</td>\n",
       "      <td>$3B</td>\n",
       "      <td>9/9/21</td>\n",
       "      <td>Fintech</td>\n",
       "      <td>San Francisco</td>\n",
       "      <td>United States</td>\n",
       "      <td>North America</td>\n",
       "      <td>2015</td>\n",
       "      <td>$987M</td>\n",
       "      <td>Warburg Pincus, The Rise Fund, HarbourVest Par...</td>\n",
       "    </tr>\n",
       "    <tr>\n",
       "      <th>154</th>\n",
       "      <td>QuintoAndar</td>\n",
       "      <td>$5B</td>\n",
       "      <td>9/9/19</td>\n",
       "      <td>E-commerce &amp; direct-to-consumer</td>\n",
       "      <td>Campinas</td>\n",
       "      <td>Brazil</td>\n",
       "      <td>South America</td>\n",
       "      <td>2012</td>\n",
       "      <td>$755M</td>\n",
       "      <td>Kaszek Ventures, General Atlantic, SoftBank Group</td>\n",
       "    </tr>\n",
       "    <tr>\n",
       "      <th>466</th>\n",
       "      <td>WEMAKEPRICE</td>\n",
       "      <td>$2B</td>\n",
       "      <td>9/9/15</td>\n",
       "      <td>E-commerce &amp; direct-to-consumer</td>\n",
       "      <td>Seoul</td>\n",
       "      <td>South Korea</td>\n",
       "      <td>Asia</td>\n",
       "      <td>2009</td>\n",
       "      <td>$397M</td>\n",
       "      <td>IMM Investment, NXC</td>\n",
       "    </tr>\n",
       "    <tr>\n",
       "      <th>547</th>\n",
       "      <td>Aviatrix</td>\n",
       "      <td>$2B</td>\n",
       "      <td>9/8/21</td>\n",
       "      <td>Internet software &amp; services</td>\n",
       "      <td>Santa Clara</td>\n",
       "      <td>United States</td>\n",
       "      <td>North America</td>\n",
       "      <td>2014</td>\n",
       "      <td>$341M</td>\n",
       "      <td>Ignition Partners, Formation 8, CRV</td>\n",
       "    </tr>\n",
       "    <tr>\n",
       "      <th>762</th>\n",
       "      <td>Spiber</td>\n",
       "      <td>$1B</td>\n",
       "      <td>9/8/21</td>\n",
       "      <td>Other</td>\n",
       "      <td>Tsuruoka</td>\n",
       "      <td>Japan</td>\n",
       "      <td>Asia</td>\n",
       "      <td>2007</td>\n",
       "      <td>$520M</td>\n",
       "      <td>Cool Japan Fund, JAFCO, The Carlyle Group</td>\n",
       "    </tr>\n",
       "    <tr>\n",
       "      <th>759</th>\n",
       "      <td>Nexii</td>\n",
       "      <td>$1B</td>\n",
       "      <td>9/8/21</td>\n",
       "      <td>Other</td>\n",
       "      <td>Vancouver</td>\n",
       "      <td>Canada</td>\n",
       "      <td>North America</td>\n",
       "      <td>2020</td>\n",
       "      <td>$45M</td>\n",
       "      <td>Trane Technologies, Honeywell</td>\n",
       "    </tr>\n",
       "    <tr>\n",
       "      <th>755</th>\n",
       "      <td>Marshmallow</td>\n",
       "      <td>$1B</td>\n",
       "      <td>9/8/21</td>\n",
       "      <td>Fintech</td>\n",
       "      <td>London</td>\n",
       "      <td>United Kingdom</td>\n",
       "      <td>Europe</td>\n",
       "      <td>2017</td>\n",
       "      <td>$116M</td>\n",
       "      <td>Passion Capital, Hedosophia, Outrun Ventures</td>\n",
       "    </tr>\n",
       "  </tbody>\n",
       "</table>\n",
       "</div>"
      ],
      "text/plain": [
       "                 Company Valuation Date Joined  \\\n",
       "962  Mammoth Biosciences       $1B      9/9/21   \n",
       "855         Agile Robots       $1B      9/9/21   \n",
       "990              Orchard       $1B      9/9/21   \n",
       "271            Varo Bank       $3B      9/9/21   \n",
       "154          QuintoAndar       $5B      9/9/19   \n",
       "466          WEMAKEPRICE       $2B      9/9/15   \n",
       "547             Aviatrix       $2B      9/8/21   \n",
       "762               Spiber       $1B      9/8/21   \n",
       "759                Nexii       $1B      9/8/21   \n",
       "755          Marshmallow       $1B      9/8/21   \n",
       "\n",
       "                            Industry           City  Country/Region  \\\n",
       "962                           Health       Brisbane   United States   \n",
       "855                         Hardware         Munich         Germany   \n",
       "990                          Fintech       New York   United States   \n",
       "271                          Fintech  San Francisco   United States   \n",
       "154  E-commerce & direct-to-consumer       Campinas          Brazil   \n",
       "466  E-commerce & direct-to-consumer          Seoul     South Korea   \n",
       "547     Internet software & services    Santa Clara   United States   \n",
       "762                            Other       Tsuruoka           Japan   \n",
       "759                            Other      Vancouver          Canada   \n",
       "755                          Fintech         London  United Kingdom   \n",
       "\n",
       "         Continent  Year Founded Funding  \\\n",
       "962  North America          2017   $265M   \n",
       "855         Europe          2018   $240M   \n",
       "990  North America          2017   $252M   \n",
       "271  North America          2015   $987M   \n",
       "154  South America          2012   $755M   \n",
       "466           Asia          2009   $397M   \n",
       "547  North America          2014   $341M   \n",
       "762           Asia          2007   $520M   \n",
       "759  North America          2020    $45M   \n",
       "755         Europe          2017   $116M   \n",
       "\n",
       "                                      Select Investors  \n",
       "962                          NFX, Plum Alley, Mayfield  \n",
       "855  Hillhouse Capital Management, Sequoia Capital ...  \n",
       "990           Accomplice, Juxtapose, FirstMark Capital  \n",
       "271  Warburg Pincus, The Rise Fund, HarbourVest Par...  \n",
       "154  Kaszek Ventures, General Atlantic, SoftBank Group  \n",
       "466                                IMM Investment, NXC  \n",
       "547                Ignition Partners, Formation 8, CRV  \n",
       "762          Cool Japan Fund, JAFCO, The Carlyle Group  \n",
       "759                      Trane Technologies, Honeywell  \n",
       "755       Passion Capital, Hedosophia, Outrun Ventures  "
      ]
     },
     "execution_count": 7,
     "metadata": {},
     "output_type": "execute_result"
    }
   ],
   "source": [
    "# Sort `companies` and display the first 10 rows of the resulting DataFrame.\n",
    "\n",
    "### YOUR CODE HERE ###\n",
    "companies_sorted = companies.sort_values(by=\"Date Joined\", axis=0, ascending=False)\n",
    "companies_sorted.head(10)\n"
   ]
  },
  {
   "cell_type": "markdown",
   "metadata": {
    "id": "STL5Rkc9AbZE",
    "jp-MarkdownHeadingCollapsed": true,
    "tags": []
   },
   "source": [
    "<details>\n",
    "  <summary><h4><strong>Hint 1</strong></h4></summary>\n",
    "\n",
    "Refer to [the content about exploratory data analysis in Python](https://www.coursera.org/learn/go-beyond-the-numbers-translate-data-into-insight/lecture/kfl9b/find-stories-using-the-six-exploratory-data-analysis-practices).\n",
    "\n",
    "</details>"
   ]
  },
  {
   "cell_type": "markdown",
   "metadata": {
    "id": "_n2d45jEAbZF",
    "jp-MarkdownHeadingCollapsed": true,
    "tags": []
   },
   "source": [
    "<details>\n",
    "  <summary><h4><strong>Hint 2</strong></h4></summary>\n",
    "\n",
    "Use the function in `pandas` that allows you to sort a DataFrame along a specific column.\n",
    "\n",
    "</details>"
   ]
  },
  {
   "cell_type": "markdown",
   "metadata": {
    "id": "0glE3KHwAbZG",
    "jp-MarkdownHeadingCollapsed": true,
    "tags": []
   },
   "source": [
    "<details>\n",
    "  <summary><h4><strong>Hint 3</strong></h4></summary>\n",
    "\n",
    "Use the `sort_values()` function, specifying the `by` parameter as the name of the column that you want to sort by and the `ascending` parameter as needed. Note that by default, `ascending` is set to `True`. If you want to sort in descending order, specify the `ascending` parameter as `False`.\n",
    "\n",
    "</details>"
   ]
  },
  {
   "cell_type": "markdown",
   "metadata": {
    "id": "quCKIWjC_PZr"
   },
   "source": [
    "**Question:** What do you observe from the sorting that you performed?\n"
   ]
  },
  {
   "cell_type": "markdown",
   "metadata": {
    "id": "xyvJZK9Bz4M0"
   },
   "source": [
    "[Write your response here. Double-click (or enter) to edit.]"
   ]
  },
  {
   "cell_type": "markdown",
   "metadata": {
    "id": "k9_pE69KFqUR"
   },
   "source": [
    "**Question:** Which library would you use to get the count of each distinct value in the `Year Founded` column? \n"
   ]
  },
  {
   "cell_type": "markdown",
   "metadata": {
    "id": "Cn0rtLX_z5BN"
   },
   "source": [
    "[Write your response here. Double-click (or enter) to edit.]"
   ]
  },
  {
   "cell_type": "markdown",
   "metadata": {
    "id": "95ICE9dXHWZY"
   },
   "source": [
    "### Determine the number of companies founded each year\n",
    "\n",
    "Find out how many companies in this dataset were founded each year. Make sure to display each unique `Year Founded` that occurs in the dataset, and for each year, a number that represents how many companies were founded then."
   ]
  },
  {
   "cell_type": "code",
   "execution_count": 8,
   "metadata": {
    "id": "_ZzafpsJ_VQ_"
   },
   "outputs": [
    {
     "data": {
      "text/plain": [
       "Year Founded\n",
       "2015    155\n",
       "2016    110\n",
       "2014    109\n",
       "2012     95\n",
       "2013     87\n",
       "2011     82\n",
       "2017     74\n",
       "2018     61\n",
       "2019     45\n",
       "2010     40\n",
       "2009     34\n",
       "2008     27\n",
       "2020     25\n",
       "2007     24\n",
       "2006     15\n",
       "2005     14\n",
       "2021     11\n",
       "2000     11\n",
       "2001      9\n",
       "1999      8\n",
       "2004      8\n",
       "2003      8\n",
       "1998      5\n",
       "2002      4\n",
       "1994      2\n",
       "1995      2\n",
       "1996      1\n",
       "1919      1\n",
       "1991      1\n",
       "1979      1\n",
       "1992      1\n",
       "1984      1\n",
       "1990      1\n",
       "1993      1\n",
       "1997      1\n",
       "Name: count, dtype: int64"
      ]
     },
     "execution_count": 8,
     "metadata": {},
     "output_type": "execute_result"
    }
   ],
   "source": [
    "# Display each unique year that occurs in the dataset\n",
    "# along with the number of companies that were founded in each unique year.\n",
    "\n",
    "### YOUR CODE HERE ###\n",
    "companies['Year Founded'].value_counts()\n",
    "# companies.head()"
   ]
  },
  {
   "cell_type": "markdown",
   "metadata": {
    "id": "nBZVJaWxJsKm",
    "jp-MarkdownHeadingCollapsed": true,
    "tags": []
   },
   "source": [
    "<details>\n",
    "  <summary><h4><strong>Hint 1</strong></h4></summary>\n",
    "\n",
    "Refer to [the content about exploratory data analysis in Python](https://www.coursera.org/learn/go-beyond-the-numbers-translate-data-into-insight/lecture/kfl9b/find-stories-using-the-six-exploratory-data-analysis-practices).\n",
    "\n",
    "</details>"
   ]
  },
  {
   "cell_type": "markdown",
   "metadata": {
    "id": "eGDXI8HcJsKo",
    "jp-MarkdownHeadingCollapsed": true,
    "tags": []
   },
   "source": [
    "<details>\n",
    "  <summary><h4><strong>Hint 2</strong></h4></summary>\n",
    "\n",
    "Use the function in `pandas` that allows you to get the count for each distinct value in a specific column.\n",
    "\n",
    "</details>"
   ]
  },
  {
   "cell_type": "markdown",
   "metadata": {
    "id": "cDwQaEkwJsKo",
    "jp-MarkdownHeadingCollapsed": true,
    "tags": []
   },
   "source": [
    "<details>\n",
    "  <summary><h4><strong>Hint 3</strong></h4></summary>\n",
    "\n",
    "Use the `value_counts()` function on the `Year Founded` column. \n",
    "\n",
    "</details>"
   ]
  },
  {
   "cell_type": "markdown",
   "metadata": {
    "id": "rpMFZQqpJYW6"
   },
   "source": [
    "**Question:** What do you observe from the counts of the unique `Year Founded` values in the dataset?\n"
   ]
  },
  {
   "cell_type": "markdown",
   "metadata": {
    "id": "i8luOA1Oz6DJ"
   },
   "source": [
    "[Write your response here. Double-click (or enter) to edit.]"
   ]
  },
  {
   "cell_type": "markdown",
   "metadata": {},
   "source": [
    "**Question:** What kind of graph represents the counts of samples based on a particular feature?\n"
   ]
  },
  {
   "cell_type": "markdown",
   "metadata": {},
   "source": [
    "[Write your response here. Double-click (or enter) to edit.]"
   ]
  },
  {
   "cell_type": "markdown",
   "metadata": {},
   "source": [
    "Plot a histogram of the `Year Founded` feature."
   ]
  },
  {
   "cell_type": "code",
   "execution_count": 9,
   "metadata": {},
   "outputs": [
    {
     "data": {
      "text/plain": [
       "Text(0.5, 1.0, 'Year Founded')"
      ]
     },
     "execution_count": 9,
     "metadata": {},
     "output_type": "execute_result"
    },
    {
     "data": {
      "image/png": "[encoded data removed]",
      "text/plain": [
       "<Figure size 640x480 with 1 Axes>"
      ]
     },
     "metadata": {},
     "output_type": "display_data"
    }
   ],
   "source": [
    "# Plot a histogram of the Year Founded feature.\n",
    "### YOUR CODE HERE ###\n",
    "sns.histplot(data=companies, x='Year Founded')\n",
    "plt.title('Year Founded')"
   ]
  },
  {
   "cell_type": "markdown",
   "metadata": {
    "id": "XzKBLKpOMerv"
   },
   "source": [
    "**Question:** If you want to compare when one company joined unicorn status to when another company joined, how would you transform the `Date Joined` column to gain that insight? To answer this question, notice the data types.\n"
   ]
  },
  {
   "cell_type": "markdown",
   "metadata": {
    "id": "RqFif2yaz6pU"
   },
   "source": [
    "[Write your response here. Double-click (or enter) to edit.]"
   ]
  },
  {
   "cell_type": "markdown",
   "metadata": {
    "id": "94b53c7f-54d8-4d1a-ae07-7c28c2ab8f5b",
    "tags": []
   },
   "source": [
    "### Convert the `Date Joined` column to datetime\n",
    "\n",
    "Convert the `Date Joined` column to datetime. This will split each value into year, month, and date components, allowing you to later gain insights about when a company gained unicorn status with respect to each component."
   ]
  },
  {
   "cell_type": "code",
   "execution_count": 10,
   "metadata": {
    "id": "afe607c8-9dd7-47c3-9fc8-88772f015e2b"
   },
   "outputs": [
    {
     "name": "stderr",
     "output_type": "stream",
     "text": [
      "C:\\Users\\Kevin Proudler\\AppData\\Local\\Temp\\ipykernel_13788\\2225652472.py:5: UserWarning: Could not infer format, so each element will be parsed individually, falling back to `dateutil`. To ensure parsing is consistent and as-expected, please specify a format.\n",
      "  companies['Date Joined'] = pd.to_datetime(companies['Date Joined'])\n"
     ]
    },
    {
     "data": {
      "text/plain": [
       "Company                     object\n",
       "Valuation                   object\n",
       "Date Joined         datetime64[ns]\n",
       "Industry                    object\n",
       "City                        object\n",
       "Country/Region              object\n",
       "Continent                   object\n",
       "Year Founded                 int64\n",
       "Funding                     object\n",
       "Select Investors            object\n",
       "dtype: object"
      ]
     },
     "execution_count": 10,
     "metadata": {},
     "output_type": "execute_result"
    }
   ],
   "source": [
    "# Convert the `Date Joined` column to datetime.\n",
    "# Update the column with the converted values.\n",
    "\n",
    "### YOUR CODE HERE ###\n",
    "companies['Date Joined'] = pd.to_datetime(companies['Date Joined'])\n",
    "\n",
    "\n",
    "\n",
    "# Display the data types of the columns in `companies`\n",
    "# to confirm that the update actually took place.\n",
    "\n",
    "### YOUR CODE HERE ###\n",
    "companies.dtypes\n"
   ]
  },
  {
   "cell_type": "markdown",
   "metadata": {
    "id": "ouhV8x_wP5uJ",
    "jp-MarkdownHeadingCollapsed": true,
    "tags": []
   },
   "source": [
    "<details>\n",
    "  <summary><h4><strong>Hint 1</strong></h4></summary>\n",
    "\n",
    "Refer to [the content about datetime transformations in Python](https://www.coursera.org/learn/go-beyond-the-numbers-translate-data-into-insight/supplement/ZcM4z/reference-guide-datetime-manipulation).\n",
    "\n",
    "</details>"
   ]
  },
  {
   "cell_type": "markdown",
   "metadata": {
    "id": "mhYA5bwIP5uL",
    "jp-MarkdownHeadingCollapsed": true,
    "tags": []
   },
   "source": [
    "<details>\n",
    "  <summary><h4><strong>Hint 2</strong></h4></summary>\n",
    "\n",
    "Use the function in `pandas` that allows you to convert an object to datetime format.\n",
    "\n",
    "Use the property that DataFrames have that can be used to display the data types of the columns.\n",
    "\n",
    "</details>"
   ]
  },
  {
   "cell_type": "markdown",
   "metadata": {
    "id": "Y9ipjYInP5uM",
    "jp-MarkdownHeadingCollapsed": true,
    "tags": []
   },
   "source": [
    "<details>\n",
    "  <summary><h4><strong>Hint 3</strong></h4></summary>\n",
    "\n",
    "Use the `to_datetime()` function on the `Date Joined` column.\n",
    "\n",
    "Make sure to update the column by reassigning to the result of the function call mentioned previously.\n",
    "\n",
    "Use the `dtypes` property to get the data types of the columns in `companies`.\n",
    "\n",
    "</details>"
   ]
  },
  {
   "cell_type": "markdown",
   "metadata": {
    "id": "8Gl70TvPVDsO"
   },
   "source": [
    "**Question:** How would you obtain the names of the months when companies gained unicorn status?\n"
   ]
  },
  {
   "cell_type": "markdown",
   "metadata": {
    "id": "C3Dp7ePXz8Cz"
   },
   "source": [
    "[Write your response here. Double-click (or enter) to edit.]"
   ]
  },
  {
   "cell_type": "markdown",
   "metadata": {
    "id": "ae351a97-926e-40af-91e2-4bd12a5bf888",
    "tags": []
   },
   "source": [
    "### Create a `Month Joined` column\n",
    "\n",
    "Obtain the names of the months when companies gained unicorn status, and use the result to create a `Month Joined` column. "
   ]
  },
  {
   "cell_type": "code",
   "execution_count": 11,
   "metadata": {
    "id": "PFBo2wdQU6U1"
   },
   "outputs": [
    {
     "data": {
      "text/plain": [
       "Company                     object\n",
       "Valuation                   object\n",
       "Date Joined         datetime64[ns]\n",
       "Industry                    object\n",
       "City                        object\n",
       "Country/Region              object\n",
       "Continent                   object\n",
       "Year Founded                 int64\n",
       "Funding                     object\n",
       "Select Investors            object\n",
       "Month Joined                object\n",
       "dtype: object"
      ]
     },
     "execution_count": 11,
     "metadata": {},
     "output_type": "execute_result"
    }
   ],
   "source": [
    "# Obtain the names of the months when companies gained unicorn status.\n",
    "# Use the result to create a `Month Joined` column.\n",
    "\n",
    "### YOUR CODE HERE ###\n",
    "companies['Month Joined'] = companies['Date Joined'].dt.month_name()\n",
    "\n",
    "\n",
    "# Display the first few rows of `companies`\n",
    "# to confirm that the new column did get added.\n",
    "\n",
    "### YOUR CODE HERE ###\n",
    "companies.dtypes\n"
   ]
  },
  {
   "cell_type": "markdown",
   "metadata": {
    "id": "uqVlpsSDYeR1",
    "jp-MarkdownHeadingCollapsed": true,
    "tags": []
   },
   "source": [
    "<details>\n",
    "  <summary><h4><strong>Hint 1</strong></h4></summary>\n",
    "\n",
    "Refer to [the content about extracting components from datetime objects in Python](https://www.coursera.org/learn/go-beyond-the-numbers-translate-data-into-insight/lecture/Vh13u/use-structuring-methods-to-establish-order-in-your-dataset).\n",
    "\n",
    "</details>"
   ]
  },
  {
   "cell_type": "markdown",
   "metadata": {
    "id": "VB0tiRB9YeR3",
    "jp-MarkdownHeadingCollapsed": true,
    "tags": []
   },
   "source": [
    "<details>\n",
    "  <summary><h4><strong>Hint 2</strong></h4></summary>\n",
    "\n",
    "Use the function in the `pandas` library that contains datetime strings in order to extract the month names.\n",
    "\n",
    "Use the function in the `pandas` library that allows you to display the first few rows of a DataFrame.\n",
    "\n",
    "</details>"
   ]
  },
  {
   "cell_type": "markdown",
   "metadata": {
    "id": "B3o5tPHPYeR5",
    "jp-MarkdownHeadingCollapsed": true,
    "tags": []
   },
   "source": [
    "<details>\n",
    "  <summary><h4><strong>Hint 3</strong></h4></summary>\n",
    "\n",
    "Use the `dt.month_name()` function on the `Date Joined` column.\n",
    "\n",
    "Use a pair of square brackets to create a new column. Make sure to specify the name of the new column inside the brackets and assign the column to the result of calling the function mentioned previously.\n",
    "\n",
    "Use the `head()` function to display the first few rows of a DataFrame.\n",
    "\n",
    "</details>"
   ]
  },
  {
   "cell_type": "markdown",
   "metadata": {
    "id": "W81zWrCE8_Ye"
   },
   "source": [
    "**Question:** Using the 'Date Joined' column, how would you determine how many years it took for companies to reach unicorn status?\n"
   ]
  },
  {
   "cell_type": "markdown",
   "metadata": {
    "id": "uNbv1cAnz9NA"
   },
   "source": [
    "[Write your response here. Double-click (or enter) to edit.]"
   ]
  },
  {
   "cell_type": "markdown",
   "metadata": {
    "id": "6xTyzHiM8_Yf",
    "tags": []
   },
   "source": [
    "### Create a `Years To Join` column\n",
    "\n",
    "Determine how many years it took for companies to reach unicorn status, and use the result to create a `Years To Join` column. Adding this to the dataset can help you answer questions you may have about this aspect of the companies."
   ]
  },
  {
   "cell_type": "code",
   "execution_count": 12,
   "metadata": {
    "id": "9zK8Q7-v-Bx1"
   },
   "outputs": [
    {
     "data": {
      "text/html": [
       "<div>\n",
       "<style scoped>\n",
       "    .dataframe tbody tr th:only-of-type {\n",
       "        vertical-align: middle;\n",
       "    }\n",
       "\n",
       "    .dataframe tbody tr th {\n",
       "        vertical-align: top;\n",
       "    }\n",
       "\n",
       "    .dataframe thead th {\n",
       "        text-align: right;\n",
       "    }\n",
       "</style>\n",
       "<table border=\"1\" class=\"dataframe\">\n",
       "  <thead>\n",
       "    <tr style=\"text-align: right;\">\n",
       "      <th></th>\n",
       "      <th>Company</th>\n",
       "      <th>Valuation</th>\n",
       "      <th>Date Joined</th>\n",
       "      <th>Industry</th>\n",
       "      <th>City</th>\n",
       "      <th>Country/Region</th>\n",
       "      <th>Continent</th>\n",
       "      <th>Year Founded</th>\n",
       "      <th>Funding</th>\n",
       "      <th>Select Investors</th>\n",
       "      <th>Month Joined</th>\n",
       "      <th>Years to Join</th>\n",
       "    </tr>\n",
       "  </thead>\n",
       "  <tbody>\n",
       "    <tr>\n",
       "      <th>0</th>\n",
       "      <td>Bytedance</td>\n",
       "      <td>$180B</td>\n",
       "      <td>2017-04-07</td>\n",
       "      <td>Artificial intelligence</td>\n",
       "      <td>Beijing</td>\n",
       "      <td>China</td>\n",
       "      <td>Asia</td>\n",
       "      <td>2012</td>\n",
       "      <td>$8B</td>\n",
       "      <td>Sequoia Capital China, SIG Asia Investments, S...</td>\n",
       "      <td>April</td>\n",
       "      <td>5</td>\n",
       "    </tr>\n",
       "    <tr>\n",
       "      <th>1</th>\n",
       "      <td>SpaceX</td>\n",
       "      <td>$100B</td>\n",
       "      <td>2012-12-01</td>\n",
       "      <td>Other</td>\n",
       "      <td>Hawthorne</td>\n",
       "      <td>United States</td>\n",
       "      <td>North America</td>\n",
       "      <td>2002</td>\n",
       "      <td>$7B</td>\n",
       "      <td>Founders Fund, Draper Fisher Jurvetson, Rothen...</td>\n",
       "      <td>December</td>\n",
       "      <td>10</td>\n",
       "    </tr>\n",
       "    <tr>\n",
       "      <th>2</th>\n",
       "      <td>SHEIN</td>\n",
       "      <td>$100B</td>\n",
       "      <td>2018-07-03</td>\n",
       "      <td>E-commerce &amp; direct-to-consumer</td>\n",
       "      <td>Shenzhen</td>\n",
       "      <td>China</td>\n",
       "      <td>Asia</td>\n",
       "      <td>2008</td>\n",
       "      <td>$2B</td>\n",
       "      <td>Tiger Global Management, Sequoia Capital China...</td>\n",
       "      <td>July</td>\n",
       "      <td>10</td>\n",
       "    </tr>\n",
       "    <tr>\n",
       "      <th>3</th>\n",
       "      <td>Stripe</td>\n",
       "      <td>$95B</td>\n",
       "      <td>2014-01-23</td>\n",
       "      <td>Fintech</td>\n",
       "      <td>San Francisco</td>\n",
       "      <td>United States</td>\n",
       "      <td>North America</td>\n",
       "      <td>2010</td>\n",
       "      <td>$2B</td>\n",
       "      <td>Khosla Ventures, LowercaseCapital, capitalG</td>\n",
       "      <td>January</td>\n",
       "      <td>4</td>\n",
       "    </tr>\n",
       "    <tr>\n",
       "      <th>4</th>\n",
       "      <td>Klarna</td>\n",
       "      <td>$46B</td>\n",
       "      <td>2011-12-12</td>\n",
       "      <td>Fintech</td>\n",
       "      <td>Stockholm</td>\n",
       "      <td>Sweden</td>\n",
       "      <td>Europe</td>\n",
       "      <td>2005</td>\n",
       "      <td>$4B</td>\n",
       "      <td>Institutional Venture Partners, Sequoia Capita...</td>\n",
       "      <td>December</td>\n",
       "      <td>6</td>\n",
       "    </tr>\n",
       "  </tbody>\n",
       "</table>\n",
       "</div>"
      ],
      "text/plain": [
       "     Company Valuation Date Joined                         Industry  \\\n",
       "0  Bytedance     $180B  2017-04-07          Artificial intelligence   \n",
       "1     SpaceX     $100B  2012-12-01                            Other   \n",
       "2      SHEIN     $100B  2018-07-03  E-commerce & direct-to-consumer   \n",
       "3     Stripe      $95B  2014-01-23                          Fintech   \n",
       "4     Klarna      $46B  2011-12-12                          Fintech   \n",
       "\n",
       "            City Country/Region      Continent  Year Founded Funding  \\\n",
       "0        Beijing          China           Asia          2012     $8B   \n",
       "1      Hawthorne  United States  North America          2002     $7B   \n",
       "2       Shenzhen          China           Asia          2008     $2B   \n",
       "3  San Francisco  United States  North America          2010     $2B   \n",
       "4      Stockholm         Sweden         Europe          2005     $4B   \n",
       "\n",
       "                                    Select Investors Month Joined  \\\n",
       "0  Sequoia Capital China, SIG Asia Investments, S...        April   \n",
       "1  Founders Fund, Draper Fisher Jurvetson, Rothen...     December   \n",
       "2  Tiger Global Management, Sequoia Capital China...         July   \n",
       "3        Khosla Ventures, LowercaseCapital, capitalG      January   \n",
       "4  Institutional Venture Partners, Sequoia Capita...     December   \n",
       "\n",
       "   Years to Join  \n",
       "0              5  \n",
       "1             10  \n",
       "2             10  \n",
       "3              4  \n",
       "4              6  "
      ]
     },
     "execution_count": 12,
     "metadata": {},
     "output_type": "execute_result"
    }
   ],
   "source": [
    "# Determine how many years it took for companies to reach unicorn status.\n",
    "# Use the result to create a `Years To Join` column.\n",
    "\n",
    "### YOUR CODE HERE ###\n",
    "companies['Years to Join'] = companies['Date Joined'].dt.year - companies['Year Founded']\n",
    "\n",
    "\n",
    "\n",
    "# Display the first few rows of `companies`\n",
    "# to confirm that the new column did get added.\n",
    "\n",
    "### YOUR CODE HERE ###\n",
    "companies.head()\n"
   ]
  },
  {
   "cell_type": "markdown",
   "metadata": {
    "id": "ruKtgVdWCPxU",
    "jp-MarkdownHeadingCollapsed": true,
    "tags": []
   },
   "source": [
    "<details>\n",
    "  <summary><h4><strong>Hint 1</strong></h4></summary>\n",
    "\n",
    "Refer to [the content about extracting components from datetime objects in Python](https://www.coursera.org/learn/go-beyond-the-numbers-translate-data-into-insight/lecture/Vh13u/use-structuring-methods-to-establish-order-in-your-dataset).\n",
    "\n",
    "</details>"
   ]
  },
  {
   "cell_type": "markdown",
   "metadata": {
    "id": "1BuXj5ClCPxW",
    "jp-MarkdownHeadingCollapsed": true,
    "tags": []
   },
   "source": [
    "<details>\n",
    "  <summary><h4><strong>Hint 2</strong></h4></summary>\n",
    "\n",
    "Use the property in the `pandas` library that contains datetime strings in order to extract the year components.\n",
    "\n",
    "Use the function in the `pandas` library that allows you to display the first few rows of a DataFrame.\n",
    "\n",
    "</details>"
   ]
  },
  {
   "cell_type": "markdown",
   "metadata": {
    "id": "QOTFxOzDCPxY",
    "jp-MarkdownHeadingCollapsed": true,
    "tags": []
   },
   "source": [
    "<details>\n",
    "  <summary><h4><strong>Hint 3</strong></h4></summary>\n",
    "\n",
    "Use the `dt.year` property on the `Date Joined` column to obtain the years that companies became unicorns.\n",
    "\n",
    "Obtain the arithmetic difference elementwise between two series in `pandas` by using the subtraction operator.  \n",
    "\n",
    "Use a pair of square brackets to create a new column. Make sure to specify the name of the new column inside the brackets and assign the column to the result of calling the function mentioned previously.\n",
    "\n",
    "Use the `head()` function can to display the first few rows of a DataFrame.\n",
    "\n",
    "</details>"
   ]
  },
  {
   "cell_type": "markdown",
   "metadata": {
    "id": "98YFM1o4-VQ_"
   },
   "source": [
    "**Question:** Which year would you like to gain more insight on with respect when companies attained unicorn status, and why?\n"
   ]
  },
  {
   "cell_type": "markdown",
   "metadata": {
    "id": "hRT_vGZhz-Ij"
   },
   "source": [
    "[Write your response here. Double-click (or enter) to edit.]"
   ]
  },
  {
   "cell_type": "markdown",
   "metadata": {
    "id": "nx-WbHfLCdTd"
   },
   "source": [
    "### Gain more insight on a specific year\n",
    "\n",
    "To gain more insight on the year of that interests you, filter the dataset by that year and save the resulting subset into a new variable. "
   ]
  },
  {
   "cell_type": "code",
   "execution_count": 13,
   "metadata": {
    "id": "5FnSS5fBEUY-"
   },
   "outputs": [
    {
     "data": {
      "text/html": [
       "<div>\n",
       "<style scoped>\n",
       "    .dataframe tbody tr th:only-of-type {\n",
       "        vertical-align: middle;\n",
       "    }\n",
       "\n",
       "    .dataframe tbody tr th {\n",
       "        vertical-align: top;\n",
       "    }\n",
       "\n",
       "    .dataframe thead th {\n",
       "        text-align: right;\n",
       "    }\n",
       "</style>\n",
       "<table border=\"1\" class=\"dataframe\">\n",
       "  <thead>\n",
       "    <tr style=\"text-align: right;\">\n",
       "      <th></th>\n",
       "      <th>Company</th>\n",
       "      <th>Valuation</th>\n",
       "      <th>Date Joined</th>\n",
       "      <th>Industry</th>\n",
       "      <th>City</th>\n",
       "      <th>Country/Region</th>\n",
       "      <th>Continent</th>\n",
       "      <th>Year Founded</th>\n",
       "      <th>Funding</th>\n",
       "      <th>Select Investors</th>\n",
       "      <th>Month Joined</th>\n",
       "      <th>Years to Join</th>\n",
       "    </tr>\n",
       "  </thead>\n",
       "  <tbody>\n",
       "    <tr>\n",
       "      <th>0</th>\n",
       "      <td>Bytedance</td>\n",
       "      <td>$180B</td>\n",
       "      <td>2017-04-07</td>\n",
       "      <td>Artificial intelligence</td>\n",
       "      <td>Beijing</td>\n",
       "      <td>China</td>\n",
       "      <td>Asia</td>\n",
       "      <td>2012</td>\n",
       "      <td>$8B</td>\n",
       "      <td>Sequoia Capital China, SIG Asia Investments, S...</td>\n",
       "      <td>April</td>\n",
       "      <td>5</td>\n",
       "    </tr>\n",
       "    <tr>\n",
       "      <th>8</th>\n",
       "      <td>JUUL Labs</td>\n",
       "      <td>$38B</td>\n",
       "      <td>2017-12-20</td>\n",
       "      <td>Consumer &amp; retail</td>\n",
       "      <td>San Francisco</td>\n",
       "      <td>United States</td>\n",
       "      <td>North America</td>\n",
       "      <td>2015</td>\n",
       "      <td>$14B</td>\n",
       "      <td>Tiger Global Management</td>\n",
       "      <td>December</td>\n",
       "      <td>2</td>\n",
       "    </tr>\n",
       "    <tr>\n",
       "      <th>15</th>\n",
       "      <td>BYJU's</td>\n",
       "      <td>$22B</td>\n",
       "      <td>2017-07-25</td>\n",
       "      <td>Edtech</td>\n",
       "      <td>Bengaluru</td>\n",
       "      <td>India</td>\n",
       "      <td>Asia</td>\n",
       "      <td>2008</td>\n",
       "      <td>$4B</td>\n",
       "      <td>Tencent Holdings, Lightspeed India Partners, S...</td>\n",
       "      <td>July</td>\n",
       "      <td>9</td>\n",
       "    </tr>\n",
       "    <tr>\n",
       "      <th>19</th>\n",
       "      <td>Yuanfudao</td>\n",
       "      <td>$17B</td>\n",
       "      <td>2017-05-31</td>\n",
       "      <td>Edtech</td>\n",
       "      <td>Beijing</td>\n",
       "      <td>China</td>\n",
       "      <td>Asia</td>\n",
       "      <td>2012</td>\n",
       "      <td>$4B</td>\n",
       "      <td>Tencent Holdings, Warbug Pincus, IDG Capital</td>\n",
       "      <td>May</td>\n",
       "      <td>5</td>\n",
       "    </tr>\n",
       "    <tr>\n",
       "      <th>58</th>\n",
       "      <td>reddit</td>\n",
       "      <td>$10B</td>\n",
       "      <td>2017-07-31</td>\n",
       "      <td>Internet software &amp; services</td>\n",
       "      <td>San Francisco</td>\n",
       "      <td>United States</td>\n",
       "      <td>North America</td>\n",
       "      <td>2005</td>\n",
       "      <td>$1B</td>\n",
       "      <td>Y Combinator, Sequoia Capital, Coatue Management</td>\n",
       "      <td>July</td>\n",
       "      <td>12</td>\n",
       "    </tr>\n",
       "  </tbody>\n",
       "</table>\n",
       "</div>"
      ],
      "text/plain": [
       "      Company Valuation Date Joined                      Industry  \\\n",
       "0   Bytedance     $180B  2017-04-07       Artificial intelligence   \n",
       "8   JUUL Labs      $38B  2017-12-20             Consumer & retail   \n",
       "15     BYJU's      $22B  2017-07-25                        Edtech   \n",
       "19  Yuanfudao      $17B  2017-05-31                        Edtech   \n",
       "58     reddit      $10B  2017-07-31  Internet software & services   \n",
       "\n",
       "             City Country/Region      Continent  Year Founded Funding  \\\n",
       "0         Beijing          China           Asia          2012     $8B   \n",
       "8   San Francisco  United States  North America          2015    $14B   \n",
       "15      Bengaluru          India           Asia          2008     $4B   \n",
       "19        Beijing          China           Asia          2012     $4B   \n",
       "58  San Francisco  United States  North America          2005     $1B   \n",
       "\n",
       "                                     Select Investors Month Joined  \\\n",
       "0   Sequoia Capital China, SIG Asia Investments, S...        April   \n",
       "8                             Tiger Global Management     December   \n",
       "15  Tencent Holdings, Lightspeed India Partners, S...         July   \n",
       "19       Tencent Holdings, Warbug Pincus, IDG Capital          May   \n",
       "58   Y Combinator, Sequoia Capital, Coatue Management         July   \n",
       "\n",
       "    Years to Join  \n",
       "0               5  \n",
       "8               2  \n",
       "15              9  \n",
       "19              5  \n",
       "58             12  "
      ]
     },
     "execution_count": 13,
     "metadata": {},
     "output_type": "execute_result"
    }
   ],
   "source": [
    "# Filter dataset by a year of your interest (in terms of when companies reached unicorn status).\n",
    "# Save the resulting subset in a new variable. \n",
    "\n",
    "### YOUR CODE HERE ###\n",
    "companies_2017 = companies[companies['Date Joined'].dt.year == 2017]\n",
    "\n",
    "\n",
    "\n",
    "# Display the first few rows of the subset to confirm that it was created.\n",
    "\n",
    "### YOUR CODE HERE ###\n",
    "companies_2017.head()\n"
   ]
  },
  {
   "cell_type": "markdown",
   "metadata": {
    "id": "9SSCM6ZLHcKA",
    "jp-MarkdownHeadingCollapsed": true,
    "tags": []
   },
   "source": [
    "<details>\n",
    "  <summary><h4><strong>Hint 1</strong></h4></summary>\n",
    "\n",
    "Refer to [the content about structuring data in Python](https://www.coursera.org/learn/go-beyond-the-numbers-translate-data-into-insight/lecture/Vh13u/use-structuring-methods-to-establish-order-in-your-dataset).\n",
    "\n",
    "</details>"
   ]
  },
  {
   "cell_type": "markdown",
   "metadata": {
    "id": "UmyyfKj3HcKC",
    "jp-MarkdownHeadingCollapsed": true,
    "tags": []
   },
   "source": [
    "<details>\n",
    "  <summary><h4><strong>Hint 2</strong></h4></summary>\n",
    "\n",
    "Use the property in the `pandas` library that contains datetime strings in order to extract the year components.\n",
    "\n",
    "Use square brackets to filter a DataFrame in order get a subset of the data. Make sure to specify an appropriate condition inside those brackets. The condition should convey which year you want to filter by. The rows that meet the condition are the rows that will be selected.\n",
    "\n",
    "Use the function in the `pandas` library that allows you to display the first few rows of a DataFrame.\n",
    "\n",
    "</details>"
   ]
  },
  {
   "cell_type": "markdown",
   "metadata": {
    "id": "3NylFsIDHcKD",
    "jp-MarkdownHeadingCollapsed": true,
    "tags": []
   },
   "source": [
    "<details>\n",
    "  <summary><h4><strong>Hint 3</strong></h4></summary>\n",
    "\n",
    "Use the `dt.year` property on the `Date Joined` column to obtain the years that companies became unicorns.\n",
    "\n",
    "Make sure to create a new variable and assign it to the subset. \n",
    "\n",
    "Use the `head()` function to display the first few rows of a DataFrame.\n",
    "\n",
    "</details>"
   ]
  },
  {
   "cell_type": "markdown",
   "metadata": {
    "id": "xP7aPBulLnRA"
   },
   "source": [
    "**Question:** Using a time interval, how could you observe trends in the companies that became unicorns in one year?\n"
   ]
  },
  {
   "cell_type": "markdown",
   "metadata": {
    "id": "1LDyIGmtz_Tc"
   },
   "source": [
    "[Write your response here. Double-click (or enter) to edit.]"
   ]
  },
  {
   "cell_type": "markdown",
   "metadata": {
    "id": "xMeC4PjILkAP"
   },
   "source": [
    "### Observe trends over time\n",
    "\n",
    "Implement the structuring approach that you have identified to observe trends over time in the companies that became unicorns for the year that interests you."
   ]
  },
  {
   "cell_type": "code",
   "execution_count": 14,
   "metadata": {
    "id": "RTPw3cRqPUI3"
   },
   "outputs": [
    {
     "data": {
      "text/html": [
       "<div>\n",
       "<style scoped>\n",
       "    .dataframe tbody tr th:only-of-type {\n",
       "        vertical-align: middle;\n",
       "    }\n",
       "\n",
       "    .dataframe tbody tr th {\n",
       "        vertical-align: top;\n",
       "    }\n",
       "\n",
       "    .dataframe thead th {\n",
       "        text-align: right;\n",
       "    }\n",
       "</style>\n",
       "<table border=\"1\" class=\"dataframe\">\n",
       "  <thead>\n",
       "    <tr style=\"text-align: right;\">\n",
       "      <th></th>\n",
       "      <th>Week Joined</th>\n",
       "      <th>Company Count</th>\n",
       "    </tr>\n",
       "  </thead>\n",
       "  <tbody>\n",
       "    <tr>\n",
       "      <th>0</th>\n",
       "      <td>2017-W08</td>\n",
       "      <td>1</td>\n",
       "    </tr>\n",
       "    <tr>\n",
       "      <th>1</th>\n",
       "      <td>2017-W14</td>\n",
       "      <td>2</td>\n",
       "    </tr>\n",
       "    <tr>\n",
       "      <th>2</th>\n",
       "      <td>2017-W15</td>\n",
       "      <td>2</td>\n",
       "    </tr>\n",
       "    <tr>\n",
       "      <th>3</th>\n",
       "      <td>2017-W16</td>\n",
       "      <td>2</td>\n",
       "    </tr>\n",
       "    <tr>\n",
       "      <th>4</th>\n",
       "      <td>2017-W17</td>\n",
       "      <td>1</td>\n",
       "    </tr>\n",
       "  </tbody>\n",
       "</table>\n",
       "</div>"
      ],
      "text/plain": [
       "  Week Joined  Company Count\n",
       "0    2017-W08              1\n",
       "1    2017-W14              2\n",
       "2    2017-W15              2\n",
       "3    2017-W16              2\n",
       "4    2017-W17              1"
      ]
     },
     "execution_count": 14,
     "metadata": {},
     "output_type": "execute_result"
    }
   ],
   "source": [
    "# After identifying the time interval that interests you, proceed with the following:\n",
    "# Step 1. Take the subset that you defined for the year of interest. \n",
    "#         Insert a column that contains the time interval that each data point belongs to, as needed.\n",
    "# Step 2. Group by the time interval.\n",
    "#         Aggregate by counting companies that joined per interval of that year.\n",
    "#         Save the resulting DataFrame in a new variable.\n",
    "\n",
    "### YOUR CODE HERE ###\n",
    "companies_2017.insert(loc=3, column='Week Joined', value=companies_2017['Date Joined'].dt.strftime(\"%Y-W%V\"))\n",
    "\n",
    "companies_2017_by_week = companies_2017.groupby(by='Week Joined')['Company'].count().reset_index().sort_values(by='Week Joined', ascending=True).rename(columns={\"Company\":\"Company Count\"})\n",
    "\n",
    "# Display the first few rows of the new DataFrame to confirm that it was created\n",
    "\n",
    "### YOUR CODE HERE ###\n",
    "\n",
    "companies_2017_by_week.head()\n",
    "\n"
   ]
  },
  {
   "cell_type": "markdown",
   "metadata": {
    "id": "y4o-jE96cL5r",
    "jp-MarkdownHeadingCollapsed": true,
    "tags": []
   },
   "source": [
    "<details>\n",
    "  <summary><h4><strong>Hint 1</strong></h4></summary>\n",
    "\n",
    "Refer to [the content about structuring data in Python](https://www.coursera.org/learn/go-beyond-the-numbers-translate-data-into-insight/lecture/Vh13u/use-structuring-methods-to-establish-order-in-your-dataset).\n",
    "\n",
    "</details>"
   ]
  },
  {
   "cell_type": "markdown",
   "metadata": {
    "id": "KpYfJ_etcL5t",
    "jp-MarkdownHeadingCollapsed": true,
    "tags": []
   },
   "source": [
    "<details>\n",
    "  <summary><h4><strong>Hint 2</strong></h4></summary>\n",
    "\n",
    "To obtain the data in a specific periodic datetime format, call a function in the `pandas` library on a series that contains datetime strings.   \n",
    "\n",
    "Keep in mind that currently, the `Valuation` column is of data type `object` and contains `$` and `B` to indicate that each amount is in billions of dollars.\n",
    "\n",
    "Call functions in the `pandas` library to achieve the following tasks:\n",
    "  - Apply a function to each value in the series.\n",
    "  - Cast each value in the series to a specified data type.\n",
    "\n",
    "Use a pair of square brackets to access a particular column from the result of grouping a DataFrame. \n",
    "\n",
    "Use these functions in the `pandas` library to achieve the following tasks:\n",
    "- Concatenate two DataFrames together\n",
    "- Drop columns that you do not need from a DataFrame\n",
    "- Group a DataFrame by a specific column\n",
    "- Compute the average value for each group\n",
    "- Reset the index so that the column that you grouped on also appears as a column after the grouping (instead of remaining an index) \n",
    "- Rename columns in a DataFrame\n",
    "- Display the first few rows of a DataFrame\n",
    "\n",
    "</details>"
   ]
  },
  {
   "cell_type": "markdown",
   "metadata": {
    "id": "fO62guTzcL5v",
    "jp-MarkdownHeadingCollapsed": true,
    "tags": []
   },
   "source": [
    "<details>\n",
    "  <summary><h4><strong>Hint 3</strong></h4></summary>\n",
    "\n",
    "Use `dt.strftime('%Y-W%V')` on the `Date Joined` column to obtain the weeks that companies became unicorns.\n",
    "\n",
    "Use these functions in `pandas` to acheive the following tasks:\n",
    "- `groupby()` to group a DataFrame by a specific column\n",
    "- `count()` to count the number of rows that belong to each group\n",
    "- `reset_index()` to reset the index so that the column that you grouped on also appears as a column after the grouping (instead of remaining an index) \n",
    "- `rename()` to rename the columns in a DataFrame\n",
    "- `head()` to display the first few rows of a DataFrame\n",
    "\n",
    "</details>"
   ]
  },
  {
   "cell_type": "markdown",
   "metadata": {
    "id": "vAPjV24TA7lA"
   },
   "source": [
    "**Question:** How would you structure the data to observe trends in the average valuation of companies from 2020 to 2021?  "
   ]
  },
  {
   "cell_type": "markdown",
   "metadata": {
    "id": "T5-Kc-zr0AzU"
   },
   "source": [
    "[Write your response here. Double-click (or enter) to edit.]"
   ]
  },
  {
   "cell_type": "markdown",
   "metadata": {
    "id": "5vGITCLaA7lC"
   },
   "source": [
    "### Compare trends over time\n",
    "\n",
    "Implement the structuring approach that you have identified in order to compare trends over time in the average valuation of companies that became unicorns in the year you selected above and in another year of your choice. Keep in mind the data type of the `Valuation` column and what the values in that column contain currently."
   ]
  },
  {
   "cell_type": "code",
   "execution_count": 15,
   "metadata": {
    "id": "pQ3sXSbaA7lD"
   },
   "outputs": [
    {
     "data": {
      "text/html": [
       "<div>\n",
       "<style scoped>\n",
       "    .dataframe tbody tr th:only-of-type {\n",
       "        vertical-align: middle;\n",
       "    }\n",
       "\n",
       "    .dataframe tbody tr th {\n",
       "        vertical-align: top;\n",
       "    }\n",
       "\n",
       "    .dataframe thead th {\n",
       "        text-align: right;\n",
       "    }\n",
       "</style>\n",
       "<table border=\"1\" class=\"dataframe\">\n",
       "  <thead>\n",
       "    <tr style=\"text-align: right;\">\n",
       "      <th></th>\n",
       "      <th>Quarter Joined</th>\n",
       "      <th>Valuation</th>\n",
       "    </tr>\n",
       "  </thead>\n",
       "  <tbody>\n",
       "    <tr>\n",
       "      <th>0</th>\n",
       "      <td>2017-Q1</td>\n",
       "      <td>2.500000</td>\n",
       "    </tr>\n",
       "    <tr>\n",
       "      <th>1</th>\n",
       "      <td>2017-Q2</td>\n",
       "      <td>15.642857</td>\n",
       "    </tr>\n",
       "    <tr>\n",
       "      <th>2</th>\n",
       "      <td>2017-Q3</td>\n",
       "      <td>4.636364</td>\n",
       "    </tr>\n",
       "    <tr>\n",
       "      <th>3</th>\n",
       "      <td>2017-Q4</td>\n",
       "      <td>4.294118</td>\n",
       "    </tr>\n",
       "    <tr>\n",
       "      <th>4</th>\n",
       "      <td>2018-Q1</td>\n",
       "      <td>5.733333</td>\n",
       "    </tr>\n",
       "  </tbody>\n",
       "</table>\n",
       "</div>"
      ],
      "text/plain": [
       "  Quarter Joined  Valuation\n",
       "0        2017-Q1   2.500000\n",
       "1        2017-Q2  15.642857\n",
       "2        2017-Q3   4.636364\n",
       "3        2017-Q4   4.294118\n",
       "4        2018-Q1   5.733333"
      ]
     },
     "execution_count": 15,
     "metadata": {},
     "output_type": "execute_result"
    }
   ],
   "source": [
    "# After identifying the additional year and time interval of interest, proceed with the following:\n",
    "# Step 1. Filter by the additional year to create a subset that consists of companies that joined in that year.\n",
    "# Step 2. Concatenate that new subset with the subset that you defined previously.\n",
    "# Step 3. As needed, add a column that contains the time interval that each data point belongs to, \n",
    "#         in the concatenated DataFrame.\n",
    "# Step 4. Transform the `Valuation` column as needed.\n",
    "# Step 5. Group by the time interval.\n",
    "#         Aggregate by computing average valuation of companies that joined per interval of the corresponding year.\n",
    "#         Save the resulting DataFrame in a new variable.\n",
    "\n",
    "### YOUR CODE HERE ###\n",
    "# companies_2018 = companies[companies['Date Joined'].dt.year == 2018]\n",
    "# companies_2018.insert(loc=3, column='Week Joined', value=companies_2018['Date Joined'].dt.strftime('%Y-W%V'))\n",
    "\n",
    "# companies_2017_2018 = pd.concat([companies_2017, companies_2018])\n",
    "\n",
    "# companies_2017_2018.Valuation = companies_2017_2018.Valuation.str[1:-1].astype(int)\n",
    "\n",
    "# valuation_2017_2018 = companies_2017_2018.groupby(by=\"Week Joined\")[\"Valuation\"].mean().reset_index().sort_values(by='Week Joined', axis=0, ascending=True)\n",
    "\n",
    "\n",
    "companies_2018 = companies[companies['Date Joined'].dt.year == 2018]\n",
    "companies_2017_2018 = pd.concat([companies_2017, companies_2018])\n",
    "companies_2017_2018['Quarter Joined'] = companies_2017_2018['Date Joined'].dt.to_period('Q').dt.strftime(\"%Y-Q%q\")\n",
    "companies_2017_2018.Valuation = companies_2017_2018.Valuation.str[1:-1].astype(int)\n",
    "valuation_2017_2018 = companies_2017_2018.groupby(by=\"Quarter Joined\")[\"Valuation\"].mean().reset_index().sort_values(by='Quarter Joined', axis=0, ascending=True)\n",
    "\n",
    "# Display the first few rows of the new DataFrame to confirm that it was created.\n",
    "\n",
    "### YOUR CODE HERE ###\n",
    "\n",
    "valuation_2017_2018.head()\n",
    "# companies.head()\n"
   ]
  },
  {
   "cell_type": "markdown",
   "metadata": {
    "id": "CJoxASljNvH6",
    "jp-MarkdownHeadingCollapsed": true,
    "tags": []
   },
   "source": [
    "\n",
    "<details>\n",
    "  <summary><h4><strong>Hint 1</strong></h4></summary>\n",
    "\n",
    "Refer to [the content about manipulating data in Python](https://www.coursera.org/learn/go-beyond-the-numbers-translate-data-into-insight/lecture/0GjvK/date-string-manipulations-with-python).\n",
    "\n",
    "</details>\n"
   ]
  },
  {
   "cell_type": "markdown",
   "metadata": {
    "id": "qoXGc_naNvH8",
    "jp-MarkdownHeadingCollapsed": true,
    "tags": []
   },
   "source": [
    "<details>\n",
    "  <summary><h4><strong>Hint 2</strong></h4></summary>\n",
    "\n",
    "To obtain the data in a specific periodic datetime format, call a function in the `pandas` library on a series that contains datetime strings.   \n",
    "\n",
    "Keep in mind that currently, the `Valuation` column is of data type `object` and contains `$` and `B` to indicate that each amount is in billions of dollars.\n",
    "\n",
    "Call functions in the `pandas` library on a series to acheive the following tasks:\n",
    "  - Apply a function to each value in the series.\n",
    "  - Cast each value in the series to a specified data type.\n",
    "\n",
    "Use a pair of square brackets to access a particular column from the result of grouping a DataFrame. \n",
    "\n",
    "These functions in the `pandas` library can help achieve the following tasks:\n",
    "- Concatenate two DataFrames together\n",
    "- Drop columns that you do not need from a DataFrame\n",
    "- Group a DataFrame by a specific column\n",
    "- Compute the average value for each group\n",
    "- Reset the index so that the column that you grouped on also appears as a column after the grouping (instead of remaining an index) \n",
    "- Rename columns in a DataFrame\n",
    "- Display the first few rows of a DataFrame\n",
    "\n",
    "</details>"
   ]
  },
  {
   "cell_type": "markdown",
   "metadata": {
    "id": "jRVnh5ZFNvH-",
    "jp-MarkdownHeadingCollapsed": true,
    "tags": []
   },
   "source": [
    "<details>\n",
    "  <summary><h4><strong>Hint 3</strong></h4></summary>\n",
    "\n",
    "Use `.dt.to_period('Q').dt.strftime('%Y-Q%q')` on the `Date Joined` column to obtain the quarters during which companies became unicorns.\n",
    "\n",
    "Convert the `Valuation` column to numeric by removing `$` and `B` and casting each value to data type `float`.\n",
    "\n",
    "Use the following functions in `pandas` to acheive the following tasks:\n",
    "- `concat` to concatenate two DataFrames together (note: this function takes in a list of DataFrames and returns a DataFrame that contains all rows from both inputs)\n",
    "- `drop()` to drop columns that you do not need from a DataFrame\n",
    "- `groupby()` to group a DataFrame by a specific column\n",
    "- `mean()` to compute the average value for each group\n",
    "- `reset_index()` to reset the index so that the column that you grouped on also appears as a column after the grouping (instead of remaining an index) \n",
    "- `rename()` to rename the columns in a DataFrame\n",
    "- `head()` to display the first few rows of a DataFrame\n",
    "\n",
    "</details>"
   ]
  },
  {
   "cell_type": "markdown",
   "metadata": {
    "id": "w_HtFyHrXVAc"
   },
   "source": [
    "## Step 3: Time-to-unicorn visualization\n",
    "\n",
    "### Visualize the time it took companies to become unicorns\n",
    "\n",
    "Using the `companies` dataset, create a box plot to visualize the distribution of how long it took companies to become unicorns, with respect to the month they joined. "
   ]
  },
  {
   "cell_type": "code",
   "execution_count": 16,
   "metadata": {
    "id": "4GT0qtPUIlzD"
   },
   "outputs": [
    {
     "name": "stdout",
     "output_type": "stream",
     "text": [
      "['January', 'February', 'March', 'April', 'May', 'June', 'July', 'August', 'September', 'October', 'November', 'December']\n"
     ]
    }
   ],
   "source": [
    "# Define a list that contains months in chronological order.\n",
    "\n",
    "### YOUR CODE HERE ###\n",
    "months = ['January', 'February', 'March', 'April', 'May', 'June', 'July', 'August', 'September', 'October', 'November', 'December']\n",
    "\n",
    "\n",
    "# Print out the list to confirm it is correct.\n",
    "\n",
    "### YOUR CODE HERE ###\n",
    "print(months)\n",
    "\n",
    "            "
   ]
  },
  {
   "cell_type": "code",
   "execution_count": 17,
   "metadata": {
    "id": "7V-NPXUCIhCT"
   },
   "outputs": [
    {
     "data": {
      "image/png": "[encoded data removed]",
      "text/plain": [
       "<Figure size 640x480 with 1 Axes>"
      ]
     },
     "metadata": {},
     "output_type": "display_data"
    }
   ],
   "source": [
    "# Create the box plot to visualize the distribution of how long it took companies to become unicorns, with respect to the month they joined.\n",
    "# Make sure the x-axis goes in chronological order by month, using the list you defined previously.\n",
    "# Plot the data from the `companies` DataFrame.\n",
    "\n",
    "### YOUR CODE HERE ###\n",
    "sns.boxplot(data=companies, x='Month Joined', y='Years to Join', order=months, showfliers=False)\n",
    "\n",
    "\n",
    "# Set the title of the plot.\n",
    "\n",
    "### YOUR CODE HERE ###\n",
    "plt.title('Years to Join Unicorn')\n",
    "\n",
    "\n",
    "# Rotate labels on the x-axis as a way to avoid overlap in the positions of the text.  \n",
    "\n",
    "### YOUR CODE HERE ###\n",
    "plt.xticks(rotation=45, ha='right')\n",
    "\n",
    "\n",
    "# Display the plot.\n",
    "\n",
    "### YOUR CODE HERE ###\n",
    "plt.show()\n",
    "\n"
   ]
  },
  {
   "cell_type": "markdown",
   "metadata": {
    "id": "h87KDAzQNhJH",
    "jp-MarkdownHeadingCollapsed": true,
    "tags": []
   },
   "source": [
    "<details>\n",
    "  <summary><h4><strong>Hint 1</strong></h4></summary>\n",
    "\n",
    "Refer to [the content about creating a box plot](https://www.coursera.org/learn/go-beyond-the-numbers-translate-data-into-insight/lecture/Pf6KW/eda-structuring-with-python).\n",
    "\n",
    "</details>"
   ]
  },
  {
   "cell_type": "markdown",
   "metadata": {
    "id": "aZBJ8VOrNhJI",
    "jp-MarkdownHeadingCollapsed": true,
    "tags": []
   },
   "source": [
    "<details>\n",
    "  <summary><h4><strong>Hint 2</strong></h4></summary>\n",
    "\n",
    "Use the function in the `seaborn` library that allows you to create a box plot.\n",
    "\n",
    "Use the functions in the `matplotlib.pyplot` module that allow you to acheive the following tasks:\n",
    "- set the title of a plot\n",
    "- rotate labels on the x-axis of a plot\n",
    "- display a plot\n",
    "\n",
    "</details>"
   ]
  },
  {
   "cell_type": "markdown",
   "metadata": {
    "id": "GPdd3MfDNhJK",
    "jp-MarkdownHeadingCollapsed": true,
    "tags": []
   },
   "source": [
    "<details>\n",
    "  <summary><h4><strong>Hint 3</strong></h4></summary>\n",
    "\n",
    "Use the `boxplot()` function from `seaborn` to create a box plot, passing in the parameters `x`, `y`, `order`, and `showfliers`. To keep outliers from appearing on the box plot, set `showfliers` to `False`.\n",
    "\n",
    "Use following functions to achieve the following tasks:\n",
    "- `plt.title()` to set the title of a plot\n",
    "- `plt.xticks()` to rotate labels on the x-axis of a plot\n",
    "- pass in the parameters `rotation=45, horizontalalignment='right'`to rotate the labels by 45 degrees and align the labels to the right\n",
    "- `plt.show()` to display a plot\n",
    "\n",
    "</details>"
   ]
  },
  {
   "cell_type": "markdown",
   "metadata": {
    "id": "hJhdI_Y7LK8e"
   },
   "source": [
    "**Question:** In the preceding box plot, what do you observe about the median value for `Years To Join` for each month?\n"
   ]
  },
  {
   "cell_type": "markdown",
   "metadata": {
    "id": "rLUHSsZl0Cmt"
   },
   "source": [
    "[Write your response here. Double-click (or enter) to edit.]"
   ]
  },
  {
   "cell_type": "markdown",
   "metadata": {
    "id": "gq9Syq-Cq1zb"
   },
   "source": [
    "## Step 4: Results and evaluation\n"
   ]
  },
  {
   "cell_type": "markdown",
   "metadata": {
    "id": "10beff64-16e0-464d-93f0-03ab61f7069b",
    "tags": []
   },
   "source": [
    "### Visualize the time it took companies to reach unicorn status\n",
    "\n",
    "In this section, you will evaluate the result of structuring the data, making observations, and gaining further insights about the data. \n",
    "\n",
    "Using the `companies` dataset, create a bar plot to visualize the average number of years it took companies to reach unicorn status with respect to when they were founded. "
   ]
  },
  {
   "cell_type": "code",
   "execution_count": 18,
   "metadata": {
    "id": "1153ca76-f1e3-4fea-a2db-a5de23614abd"
   },
   "outputs": [
    {
     "data": {
      "image/png": "[encoded data removed]",
      "text/plain": [
       "<Figure size 1000x600 with 1 Axes>"
      ]
     },
     "metadata": {},
     "output_type": "display_data"
    }
   ],
   "source": [
    "# Set the size of the plot.\n",
    "\n",
    "### YOUR CODE HERE ###\n",
    "plt.figure(figsize=(10,6))\n",
    "\n",
    "\n",
    "\n",
    "# Create bar plot to visualize the average number of years it took companies to reach unicorn status \n",
    "# with respect to when they were founded.\n",
    "# Plot data from the `companies` DataFrame.\n",
    "\n",
    "### YOUR CODE HERE ###\n",
    "sns.barplot(data=companies, x=\"Year Founded\" ,y=\"Years to Join\")\n",
    "\n",
    "\n",
    "\n",
    "# Set title\n",
    "\n",
    "### YOUR CODE HERE ###\n",
    "plt.title(\"Years to Join Unicorn\")\n",
    "\n",
    "\n",
    "\n",
    "# Set x-axis label\n",
    "\n",
    "### YOUR CODE HERE ###\n",
    "plt.xlabel('Year Founded')\n",
    "\n",
    "\n",
    "# Set y-axis label\n",
    "\n",
    "### YOUR CODE HERE ###\n",
    "plt.ylabel('Years to Join')\n",
    "\n",
    "\n",
    "\n",
    "# Rotate the labels on the x-axis as a way to avoid overlap in the positions of the text.  \n",
    "\n",
    "### YOUR CODE HERE ###\n",
    "\n",
    "plt.xticks(rotation=45, ha='right')\n",
    "\n",
    "\n",
    "# Display the plot.\n",
    "\n",
    "### YOUR CODE HERE ###\n",
    "plt.show()\n"
   ]
  },
  {
   "cell_type": "markdown",
   "metadata": {
    "id": "MWYLsImtOmaU",
    "jp-MarkdownHeadingCollapsed": true,
    "tags": []
   },
   "source": [
    "<details>\n",
    "  <summary><h4><strong>Hint 1</strong></h4></summary>\n",
    "\n",
    "Refer to [the content about creating a bar plot](https://www.coursera.org/learn/go-beyond-the-numbers-translate-data-into-insight/lecture/0GjvK/date-string-manipulations-with-python).\n",
    "\n",
    "</details>"
   ]
  },
  {
   "cell_type": "markdown",
   "metadata": {
    "id": "Na6eMkR8OmaW",
    "jp-MarkdownHeadingCollapsed": true,
    "tags": []
   },
   "source": [
    "<details>\n",
    "  <summary><h4><strong>Hint 2</strong></h4></summary>\n",
    "\n",
    "Use the function in the `seaborn` library that allows you to create a bar plot where the height of each bar is the average value for the corresponding category, by default.\n",
    "\n",
    "Use the functions in the `matplotlib.pyplot` module that allow you to set the size, title, x-axis label, and y-axis label of plots. In that module, there are also functions for rotating the labels on the x-axis and displaying the plot. \n",
    "\n",
    "</details>"
   ]
  },
  {
   "cell_type": "markdown",
   "metadata": {
    "id": "0x0AkrQ_OmaX",
    "jp-MarkdownHeadingCollapsed": true,
    "tags": []
   },
   "source": [
    "<details>\n",
    "  <summary><h4><strong>Hint 3</strong></h4></summary>\n",
    "\n",
    "Use the `barplot()` function from `seaborn`, passing in the parameters `x`, `y`, and `ci`. To keep confidence interval lines from appearing on the bar plot,  set `ci` to `False`.\n",
    "\n",
    "Use `plt.figure()`, passing in the `figsize` parameter to set the size of a plot.\n",
    "\n",
    "Use `plt.title()`, `plt.xlabel()`, `plt.ylabel()` to set the title, x-axis label, and y-axis label, respectively. \n",
    "\n",
    "Use `plt.xticks()` to rotate labels on the x-axis of a plot. Paass in the parameters `rotation=45, horizontalalignment='right'` to rotate the labels by 45 degrees and align the labels to the right.\n",
    "\n",
    "Use `plt.show()` to display a plot.\n",
    "\n",
    "</details>"
   ]
  },
  {
   "cell_type": "markdown",
   "metadata": {
    "id": "xDwKa-UDOmaX"
   },
   "source": [
    "**Question:** What trends do you notice in the data? Specifically, consider companies that were founded later on. How long did it take those companies to reach unicorn status?\n"
   ]
  },
  {
   "cell_type": "markdown",
   "metadata": {
    "id": "EapccSkH0Don"
   },
   "source": [
    "[Write your response here. Double-click (or enter) to edit.]"
   ]
  },
  {
   "cell_type": "markdown",
   "metadata": {
    "id": "M9iBEnnStJPJ"
   },
   "source": [
    "### Visualize the number of companies that joined per interval \n",
    "\n",
    "Using the subset of companies joined in the year of interest, grouped by the time interval of your choice, create a bar plot to visualize the number of companies that joined per interval for that year. "
   ]
  },
  {
   "cell_type": "code",
   "execution_count": 21,
   "metadata": {
    "id": "BTdJdubxplHc"
   },
   "outputs": [
    {
     "data": {
      "image/png": "[encoded data removed]",
      "text/plain": [
       "<Figure size 2100x600 with 1 Axes>"
      ]
     },
     "metadata": {},
     "output_type": "display_data"
    }
   ],
   "source": [
    "# Set the size of the plot.\n",
    "\n",
    "### YOUR CODE HERE ###\n",
    "plt.figure(figsize=(21,6))\n",
    "\n",
    "\n",
    "# Create bar plot to visualize number of companies that joined per interval for the year of interest.\n",
    "\n",
    "### YOUR CODE HERE ###\n",
    "sns.barplot(data=companies_2017_by_week, x=\"Week Joined\", y=\"Company Count\")\n",
    "\n",
    "\n",
    "# Set the x-axis label.\n",
    "\n",
    "### YOUR CODE HERE ###\n",
    "plt.xlabel('Week Joined')\n",
    "\n",
    "\n",
    "# Set the y-axis label.\n",
    "\n",
    "### YOUR CODE HERE ###\n",
    "plt.ylabel('Number of Companies')\n",
    "\n",
    "\n",
    "# Set the title.\n",
    "\n",
    "### YOUR CODE HERE ###\n",
    "plt.title('Number of Companies by Week in 2017')\n",
    "\n",
    "\n",
    "# Rotate labels on the x-axis as a way to avoid overlap in the positions of the text.  \n",
    "\n",
    "### YOUR CODE HERE ###\n",
    "plt.xticks(rotation=45, ha='right')\n",
    "\n",
    "\n",
    "# Display the plot.\n",
    "\n",
    "### YOUR CODE HERE ###\n",
    "plt.show()\n"
   ]
  },
  {
   "cell_type": "markdown",
   "metadata": {
    "id": "BtgkB4fVudvo",
    "jp-MarkdownHeadingCollapsed": true,
    "tags": []
   },
   "source": [
    "<details>\n",
    "  <summary><h4><strong>Hint 1</strong></h4></summary>\n",
    "\n",
    "Refer to [the content about creating a bar plot](https://www.coursera.org/learn/go-beyond-the-numbers-translate-data-into-insight/lecture/0GjvK/date-string-manipulations-with-python).\n",
    "\n",
    "</details>"
   ]
  },
  {
   "cell_type": "markdown",
   "metadata": {
    "id": "bHCMc83Nudvq",
    "jp-MarkdownHeadingCollapsed": true,
    "tags": []
   },
   "source": [
    "<details>\n",
    "  <summary><h4><strong>Hint 2</strong></h4></summary>\n",
    "\n",
    "Use the function in the `seaborn` library that allows you to create a bar plot where the height of each bar is the average value for the corresponding category, by default.\n",
    "\n",
    "Use the functions in the `matplotlib.pyplot` module that allow you to set the size, title, x-axis label, and y-axis label of plots. In that module, there are also functions for rotating the labels on the x-axis and displaying the plot. \n",
    "\n",
    "</details>"
   ]
  },
  {
   "cell_type": "markdown",
   "metadata": {
    "id": "ttH8ynAyudvr",
    "jp-MarkdownHeadingCollapsed": true,
    "tags": []
   },
   "source": [
    "<details>\n",
    "  <summary><h4><strong>Hint 3</strong></h4></summary>\n",
    "\n",
    "Use the `barplot()` function from `seaborn`, passing in the parameters `x`, `y`, and `ci`. To keep confidence interval lines from appearing on the bar plot,  set `ci` to `False`.\n",
    "\n",
    "Use `plt.figure()`, passing in the `figsize` parameter to set the size of a plot.\n",
    "\n",
    "Use `plt.title()`, `plt.xlabel()`, `plt.ylabel()` to set the title, x-axis label, and y-axis label, respectively. \n",
    "\n",
    "Use `plt.xticks()` to rotate labels on the x-axis of a plot. Paass in the parameters `rotation=45, horizontalalignment='right'` to rotate the labels by 45 degrees and align the labels to the right.\n",
    "\n",
    "Use `plt.show()` to display a plot.\n",
    "\n",
    "</details>"
   ]
  },
  {
   "cell_type": "markdown",
   "metadata": {
    "id": "NEsKdFw8sdMJ"
   },
   "source": [
    "**Question:** What do you observe from the bar plot of the number of companies that joined per interval for the year of 2021? When did the highest number of companies reach $1 billion valuation?\n",
    "\n",
    "  "
   ]
  },
  {
   "cell_type": "markdown",
   "metadata": {
    "id": "bLmFY7jR0Ewi"
   },
   "source": [
    "[Write your response here. Double-click (or enter) to edit.]"
   ]
  },
  {
   "cell_type": "markdown",
   "metadata": {
    "id": "izcgBCbZhC4w"
   },
   "source": [
    "### Visualize the average valuation over the quarters\n",
    "\n",
    "Using the subset of companies that joined in the years of interest, create a grouped bar plot to visualize the average valuation over the quarters, with two bars for each time interval. There will be two bars for each time interval. This allows you to compare quarterly values between the two years."
   ]
  },
  {
   "cell_type": "code",
   "execution_count": 44,
   "id": "74822d0a",
   "metadata": {},
   "outputs": [
    {
     "data": {
      "text/html": [
       "<div>\n",
       "<style scoped>\n",
       "    .dataframe tbody tr th:only-of-type {\n",
       "        vertical-align: middle;\n",
       "    }\n",
       "\n",
       "    .dataframe tbody tr th {\n",
       "        vertical-align: top;\n",
       "    }\n",
       "\n",
       "    .dataframe thead th {\n",
       "        text-align: right;\n",
       "    }\n",
       "</style>\n",
       "<table border=\"1\" class=\"dataframe\">\n",
       "  <thead>\n",
       "    <tr style=\"text-align: right;\">\n",
       "      <th></th>\n",
       "      <th>Quarter Joined</th>\n",
       "      <th>Valuation</th>\n",
       "      <th>Quarter Number</th>\n",
       "      <th>Year Number</th>\n",
       "    </tr>\n",
       "  </thead>\n",
       "  <tbody>\n",
       "    <tr>\n",
       "      <th>0</th>\n",
       "      <td>2017-Q1</td>\n",
       "      <td>2.500000</td>\n",
       "      <td>Q1</td>\n",
       "      <td>2017</td>\n",
       "    </tr>\n",
       "    <tr>\n",
       "      <th>1</th>\n",
       "      <td>2017-Q2</td>\n",
       "      <td>15.642857</td>\n",
       "      <td>Q2</td>\n",
       "      <td>2017</td>\n",
       "    </tr>\n",
       "    <tr>\n",
       "      <th>2</th>\n",
       "      <td>2017-Q3</td>\n",
       "      <td>4.636364</td>\n",
       "      <td>Q3</td>\n",
       "      <td>2017</td>\n",
       "    </tr>\n",
       "    <tr>\n",
       "      <th>3</th>\n",
       "      <td>2017-Q4</td>\n",
       "      <td>4.294118</td>\n",
       "      <td>Q4</td>\n",
       "      <td>2017</td>\n",
       "    </tr>\n",
       "    <tr>\n",
       "      <th>4</th>\n",
       "      <td>2018-Q1</td>\n",
       "      <td>5.733333</td>\n",
       "      <td>Q1</td>\n",
       "      <td>2018</td>\n",
       "    </tr>\n",
       "  </tbody>\n",
       "</table>\n",
       "</div>"
      ],
      "text/plain": [
       "  Quarter Joined  Valuation Quarter Number Year Number\n",
       "0        2017-Q1   2.500000             Q1        2017\n",
       "1        2017-Q2  15.642857             Q2        2017\n",
       "2        2017-Q3   4.636364             Q3        2017\n",
       "3        2017-Q4   4.294118             Q4        2017\n",
       "4        2018-Q1   5.733333             Q1        2018"
      ]
     },
     "execution_count": 44,
     "metadata": {},
     "output_type": "execute_result"
    }
   ],
   "source": [
    "\n",
    "\n",
    "valuation_2017_2018.head()"
   ]
  },
  {
   "cell_type": "code",
   "execution_count": 46,
   "metadata": {
    "id": "IC1cFf2ci6Q6"
   },
   "outputs": [
    {
     "data": {
      "text/plain": [
       "[]"
      ]
     },
     "execution_count": 46,
     "metadata": {},
     "output_type": "execute_result"
    },
    {
     "data": {
      "image/png": "[encoded data removed]",
      "text/plain": [
       "<Figure size 1000x600 with 1 Axes>"
      ]
     },
     "metadata": {},
     "output_type": "display_data"
    }
   ],
   "source": [
    "# Using slicing, extract the year component and the time interval that you specified, \n",
    "# and save them by adding two new columns into the subset. \n",
    "\n",
    "### YOUR CODE HERE ###\n",
    "# companies_2017['Quarter Joined'] = companies_2017['Date Joined'].dt.to_period(\"Q\").dt.strftime('Q%q')\n",
    "valuation_2017_2018['Quarter Number'] = valuation_2017_2018['Quarter Joined'].str[-2:]\n",
    "valuation_2017_2018['Year Number'] = valuation_2017_2018['Quarter Joined'].str[:4]\n",
    "# companies_2017_2018.head()\n",
    "# Set the size of the plot.\n",
    "\n",
    "### YOUR CODE HERE ###\n",
    "plt.figure(figsize=(10,6))\n",
    "\n",
    "\n",
    "\n",
    "# Create a grouped bar plot.\n",
    "\n",
    "### YOUR CODE HERE ###\n",
    "sns.barplot(x=valuation_2017_2018['Quarter Number'], y=valuation_2017_2018['Valuation'], hue=valuation_2017_2018['Year Number'])\n",
    "\n",
    "\n",
    "# Set the x-axis label.\n",
    "\n",
    "### YOUR CODE HERE ###\n",
    "plt.xlabel('Quarter Joined')\n",
    "plt.xticks(rotation=45, ha='right')\n",
    "\n",
    "# Set the y-axis label.\n",
    "\n",
    "### YOUR CODE HERE ###\n",
    "plt.ylabel('Average Valuation (in $B)')\n",
    "\n",
    "\n",
    "# Set the title.\n",
    "\n",
    "### YOUR CODE HERE ###\n",
    "plt.title(\"Average Valuation per Quarter 2017/2018\")\n",
    "\n",
    "\n",
    "# Display the plot.\n",
    "\n",
    "### YOUR CODE HERE ###\n",
    "plt.plot()\n"
   ]
  },
  {
   "cell_type": "markdown",
   "metadata": {
    "id": "w0EZVbYQp34N",
    "jp-MarkdownHeadingCollapsed": true,
    "tags": []
   },
   "source": [
    "<details>\n",
    "  <summary><h4><strong>Hint 1</strong></h4></summary>\n",
    "\n",
    "Refer to [the content about creating a grouped bar plot](https://www.coursera.org/learn/go-beyond-the-numbers-translate-data-into-insight/lecture/Pf6KW/eda-structuring-with-python).\n",
    "\n",
    "</details>"
   ]
  },
  {
   "cell_type": "markdown",
   "metadata": {
    "id": "IhQ1sDxUp34O",
    "jp-MarkdownHeadingCollapsed": true,
    "tags": []
   },
   "source": [
    "<details>\n",
    "  <summary><h4><strong>Hint 2</strong></h4></summary>\n",
    "\n",
    "Use the function in the `seaborn` library that allows you to create a grouped bar plot, specifying the category and height for each bar, as well as the hue.\n",
    "\n",
    "Use the functions in the `matplotlib.pyplot` module that allow you to set the size, title, x-axis label, and y-axis label of plots. In that module, there is also a function for displaying the plot. \n",
    "\n",
    "</details>"
   ]
  },
  {
   "cell_type": "markdown",
   "metadata": {
    "id": "tH8in0r5p34P",
    "jp-MarkdownHeadingCollapsed": true,
    "tags": []
   },
   "source": [
    "<details>\n",
    "  <summary><h4><strong>Hint 3</strong></h4></summary>\n",
    "\n",
    "Use the `plt.bar()` to create the bar plot, passing in the parameters `x`, `y`, and `hue`. For the task at hand, set `hue` to the column that contains year joined. \n",
    "\n",
    "Use `plt.figure()`, passing in the `figsize` parameter to set the size of a plot.\n",
    "\n",
    "Use `plt.title()`, `plt.xlabel()`, `plt.ylabel()` to set the title, x-axis label, and y-axis label, respectively. \n",
    "\n",
    "Use `plt.show()` to display a plot.\n",
    "\n",
    "</details>"
   ]
  },
  {
   "cell_type": "markdown",
   "metadata": {
    "id": "-JSttrHR4v77"
   },
   "source": [
    "**Question:** What do you observe from the preceding grouped bar plot?\n",
    "\n",
    "  "
   ]
  },
  {
   "cell_type": "markdown",
   "metadata": {
    "id": "tJjbpUeD0GMH"
   },
   "source": [
    "[Write your response here. Double-click (or enter) to edit.]"
   ]
  },
  {
   "cell_type": "markdown",
   "metadata": {
    "id": "CmStN_ox4wSs"
   },
   "source": [
    "**Question:** Is there any bias in the data that could potentially inform your analysis?\n"
   ]
  },
  {
   "cell_type": "markdown",
   "metadata": {
    "id": "Utbk8TTF0Gji"
   },
   "source": [
    "[Write your response here. Double-click (or enter) to edit.]"
   ]
  },
  {
   "cell_type": "markdown",
   "metadata": {
    "id": "9EsEVdiGF9XP"
   },
   "source": [
    "**Question:** What potential next steps could you take with your EDA?"
   ]
  },
  {
   "cell_type": "markdown",
   "metadata": {
    "id": "nHi73JCn0HrT"
   },
   "source": [
    "[Write your response here. Double-click (or enter) to edit.]"
   ]
  },
  {
   "cell_type": "markdown",
   "metadata": {
    "id": "9qPL2qMpIF6g"
   },
   "source": [
    "**Question:** Are there any unanswered questions you have about the data? If yes, what are they?\n"
   ]
  },
  {
   "cell_type": "markdown",
   "metadata": {
    "id": "ZQ4jXw1s0H_5"
   },
   "source": [
    "[Write your response here. Double-click (or enter) to edit.]"
   ]
  },
  {
   "cell_type": "markdown",
   "metadata": {
    "id": "c77e7f0f-d2b9-4464-8a7c-9575d1e1ef9f"
   },
   "source": [
    "## Considerations"
   ]
  },
  {
   "cell_type": "markdown",
   "metadata": {
    "id": "bgpSxNeqL_gK"
   },
   "source": [
    "**What are some key takeaways that you learned from this lab?**"
   ]
  },
  {
   "cell_type": "markdown",
   "metadata": {
    "id": "nh_Uk361MCUM"
   },
   "source": [
    "[Write your response here. Double-click (or enter) to edit.]"
   ]
  },
  {
   "cell_type": "markdown",
   "metadata": {
    "id": "7KjAJnO4MDTS"
   },
   "source": [
    "**What findings would you share with others?**"
   ]
  },
  {
   "cell_type": "markdown",
   "metadata": {
    "id": "q4bQAfHzMECg"
   },
   "source": [
    "[Write your response here. Double-click (or enter) to edit.]"
   ]
  },
  {
   "cell_type": "markdown",
   "metadata": {
    "id": "r5pMz4ZHMEgL"
   },
   "source": [
    "**What recommendations would you share with stakeholders based on these findings?**"
   ]
  },
  {
   "cell_type": "markdown",
   "metadata": {
    "id": "2XrpKf0XMGWD"
   },
   "source": [
    "[Write your response here. Double-click (or enter) to edit.]"
   ]
  },
  {
   "cell_type": "markdown",
   "metadata": {
    "id": "R9sAADZgr-YI"
   },
   "source": [
    "**References**\n",
    "\n",
    "Bhat, M.A. (2022, March).[*Unicorn Companies*](https://www.kaggle.com/datasets/mysarahmadbhat/unicorn-companies). \n",
    "\n"
   ]
  },
  {
   "cell_type": "markdown",
   "metadata": {},
   "source": [
    "**Congratulations!** You've completed this lab. However, you may not notice a green check mark next to this item on Coursera's platform. Please continue your progress regardless of the check mark. Just click on the \"save\" icon at the top of this notebook to ensure your work has been logged."
   ]
  }
 ],
 "metadata": {
  "colab": {
   "collapsed_sections": [],
   "provenance": [
    {
     "file_id": "15yNL9B__b83dWYp4FcjSPvb_EInqHS4J",
     "timestamp": 1660007760492
    }
   ]
  },
  "kernelspec": {
   "display_name": "Python 3",
   "language": "python",
   "name": "python3"
  },
  "language_info": {
   "codemirror_mode": {
    "name": "ipython",
    "version": 3
   },
   "file_extension": ".py",
   "mimetype": "text/x-python",
   "name": "python",
   "nbconvert_exporter": "python",
   "pygments_lexer": "ipython3",
   "version": "3.12.0"
  },
  "toc-autonumbering": false,
  "toc-showtags": false
 },
 "nbformat": 4,
 "nbformat_minor": 5
}
